{
 "cells": [
  {
   "cell_type": "code",
   "execution_count": 0,
   "metadata": {
    "application/vnd.databricks.v1+cell": {
     "cellMetadata": {
      "byteLimit": 2048000,
      "rowLimit": 10000
     },
     "inputWidgets": {},
     "nuid": "e8515cab-169b-414d-859e-7739b4580fb4",
     "showTitle": false,
     "tableResultSettingsMap": {},
     "title": ""
    }
   },
   "outputs": [
    {
     "output_type": "stream",
     "name": "stdout",
     "output_type": "stream",
     "text": [
      "Requirement already satisfied: evidently in /local_disk0/.ephemeral_nfs/envs/pythonEnv-9f297716-b32e-45f9-a03d-dd90abe6100b/lib/python3.12/site-packages (0.5.0)\nRequirement already satisfied: tracely in /local_disk0/.ephemeral_nfs/envs/pythonEnv-9f297716-b32e-45f9-a03d-dd90abe6100b/lib/python3.12/site-packages (0.2.1)\nRequirement already satisfied: pypdf in /local_disk0/.ephemeral_nfs/envs/pythonEnv-9f297716-b32e-45f9-a03d-dd90abe6100b/lib/python3.12/site-packages (5.1.0)\nCollecting faiss-cpu\n  Downloading faiss_cpu-1.9.0.post1-cp312-cp312-manylinux_2_17_x86_64.manylinux2014_x86_64.whl.metadata (4.4 kB)\nRequirement already satisfied: plotly>=5.10.0 in /databricks/python3/lib/python3.12/site-packages (from evidently) (5.22.0)\nRequirement already satisfied: statsmodels>=0.12.2 in /databricks/python3/lib/python3.12/site-packages (from evidently) (0.14.2)\nRequirement already satisfied: scikit-learn>=1.0.1 in /databricks/python3/lib/python3.12/site-packages (from evidently) (1.4.2)\nRequirement already satisfied: pandas>=1.3.5 in /databricks/python3/lib/python3.12/site-packages (from pandas[parquet]>=1.3.5->evidently) (1.5.3)\nRequirement already satisfied: numpy<2.1,>=1.22.0 in /databricks/python3/lib/python3.12/site-packages (from evidently) (1.26.4)\nRequirement already satisfied: nltk>=3.6.7 in /databricks/python3/lib/python3.12/site-packages (from evidently) (3.8.1)\nRequirement already satisfied: scipy>=1.10.0 in /databricks/python3/lib/python3.12/site-packages (from evidently) (1.13.1)\nRequirement already satisfied: requests>=2.32.0 in /databricks/python3/lib/python3.12/site-packages (from evidently) (2.32.2)\nRequirement already satisfied: PyYAML>=5.4 in /databricks/python3/lib/python3.12/site-packages (from evidently) (6.0.1)\nRequirement already satisfied: pydantic>=1.10.13 in /databricks/python3/lib/python3.12/site-packages (from evidently) (2.8.2)\nRequirement already satisfied: litestar>=2.8.3 in /local_disk0/.ephemeral_nfs/envs/pythonEnv-9f297716-b32e-45f9-a03d-dd90abe6100b/lib/python3.12/site-packages (from evidently) (2.13.0)\nRequirement already satisfied: typing-inspect>=0.9.0 in /local_disk0/.ephemeral_nfs/envs/pythonEnv-9f297716-b32e-45f9-a03d-dd90abe6100b/lib/python3.12/site-packages (from evidently) (0.9.0)\nRequirement already satisfied: uvicorn>=0.22.0 in /local_disk0/.ephemeral_nfs/envs/pythonEnv-9f297716-b32e-45f9-a03d-dd90abe6100b/lib/python3.12/site-packages (from uvicorn[standard]>=0.22.0->evidently) (0.32.1)\nRequirement already satisfied: watchdog>=3.0.0 in /local_disk0/.ephemeral_nfs/envs/pythonEnv-9f297716-b32e-45f9-a03d-dd90abe6100b/lib/python3.12/site-packages (from evidently) (6.0.0)\nRequirement already satisfied: typer>=0.3 in /databricks/python3/lib/python3.12/site-packages (from evidently) (0.12.5)\nRequirement already satisfied: rich>=13 in /databricks/python3/lib/python3.12/site-packages (from evidently) (13.3.5)\nRequirement already satisfied: iterative-telemetry>=0.0.5 in /local_disk0/.ephemeral_nfs/envs/pythonEnv-9f297716-b32e-45f9-a03d-dd90abe6100b/lib/python3.12/site-packages (from evidently) (0.0.9)\nRequirement already satisfied: dynaconf>=3.2.4 in /local_disk0/.ephemeral_nfs/envs/pythonEnv-9f297716-b32e-45f9-a03d-dd90abe6100b/lib/python3.12/site-packages (from evidently) (3.2.6)\nRequirement already satisfied: certifi>=2024.7.4 in /local_disk0/.ephemeral_nfs/envs/pythonEnv-9f297716-b32e-45f9-a03d-dd90abe6100b/lib/python3.12/site-packages (from evidently) (2024.8.30)\nRequirement already satisfied: urllib3>=1.26.19 in /local_disk0/.ephemeral_nfs/envs/pythonEnv-9f297716-b32e-45f9-a03d-dd90abe6100b/lib/python3.12/site-packages (from evidently) (2.2.3)\nRequirement already satisfied: fsspec>=2024.6.1 in /local_disk0/.ephemeral_nfs/envs/pythonEnv-9f297716-b32e-45f9-a03d-dd90abe6100b/lib/python3.12/site-packages (from evidently) (2024.10.0)\nRequirement already satisfied: ujson>=5.4.0 in /databricks/python3/lib/python3.12/site-packages (from evidently) (5.10.0)\nRequirement already satisfied: deprecation>=2.1.0 in /local_disk0/.ephemeral_nfs/envs/pythonEnv-9f297716-b32e-45f9-a03d-dd90abe6100b/lib/python3.12/site-packages (from evidently) (2.1.0)\nRequirement already satisfied: uuid6>=2024.7.10 in /local_disk0/.ephemeral_nfs/envs/pythonEnv-9f297716-b32e-45f9-a03d-dd90abe6100b/lib/python3.12/site-packages (from evidently) (2024.7.10)\nRequirement already satisfied: cryptography>=43.0.1 in /local_disk0/.ephemeral_nfs/envs/pythonEnv-9f297716-b32e-45f9-a03d-dd90abe6100b/lib/python3.12/site-packages (from evidently) (44.0.0)\nRequirement already satisfied: opentelemetry-api>=1.25.0 in /local_disk0/.ephemeral_nfs/envs/pythonEnv-9f297716-b32e-45f9-a03d-dd90abe6100b/lib/python3.12/site-packages (from tracely) (1.28.2)\nRequirement already satisfied: opentelemetry-exporter-otlp-proto-grpc>=1.25.0 in /local_disk0/.ephemeral_nfs/envs/pythonEnv-9f297716-b32e-45f9-a03d-dd90abe6100b/lib/python3.12/site-packages (from tracely) (1.28.2)\nRequirement already satisfied: opentelemetry-exporter-otlp-proto-http>=1.25.0 in /local_disk0/.ephemeral_nfs/envs/pythonEnv-9f297716-b32e-45f9-a03d-dd90abe6100b/lib/python3.12/site-packages (from tracely) (1.28.2)\nRequirement already satisfied: opentelemetry-proto>=1.25.0 in /local_disk0/.ephemeral_nfs/envs/pythonEnv-9f297716-b32e-45f9-a03d-dd90abe6100b/lib/python3.12/site-packages (from tracely) (1.28.2)\nRequirement already satisfied: opentelemetry-sdk>=1.25.0 in /local_disk0/.ephemeral_nfs/envs/pythonEnv-9f297716-b32e-45f9-a03d-dd90abe6100b/lib/python3.12/site-packages (from tracely) (1.28.2)\nRequirement already satisfied: packaging in /databricks/python3/lib/python3.12/site-packages (from faiss-cpu) (24.1)\nRequirement already satisfied: cffi>=1.12 in /databricks/python3/lib/python3.12/site-packages (from cryptography>=43.0.1->evidently) (1.16.0)\nRequirement already satisfied: appdirs in /local_disk0/.ephemeral_nfs/envs/pythonEnv-9f297716-b32e-45f9-a03d-dd90abe6100b/lib/python3.12/site-packages (from iterative-telemetry>=0.0.5->evidently) (1.4.4)\nRequirement already satisfied: filelock in /databricks/python3/lib/python3.12/site-packages (from iterative-telemetry>=0.0.5->evidently) (3.13.1)\nRequirement already satisfied: distro in /usr/lib/python3/dist-packages (from iterative-telemetry>=0.0.5->evidently) (1.9.0)\nRequirement already satisfied: anyio>=3 in /databricks/python3/lib/python3.12/site-packages (from litestar>=2.8.3->evidently) (4.2.0)\nRequirement already satisfied: click in /databricks/python3/lib/python3.12/site-packages (from litestar>=2.8.3->evidently) (8.1.7)\nRequirement already satisfied: httpx>=0.22 in /databricks/python3/lib/python3.12/site-packages (from litestar>=2.8.3->evidently) (0.27.2)\nRequirement already satisfied: litestar-htmx>=0.3.0 in /local_disk0/.ephemeral_nfs/envs/pythonEnv-9f297716-b32e-45f9-a03d-dd90abe6100b/lib/python3.12/site-packages (from litestar>=2.8.3->evidently) (0.4.1)\nRequirement already satisfied: msgspec>=0.18.2 in /local_disk0/.ephemeral_nfs/envs/pythonEnv-9f297716-b32e-45f9-a03d-dd90abe6100b/lib/python3.12/site-packages (from litestar>=2.8.3->evidently) (0.18.6)\nRequirement already satisfied: multidict>=6.0.2 in /databricks/python3/lib/python3.12/site-packages (from litestar>=2.8.3->evidently) (6.0.4)\nRequirement already satisfied: polyfactory>=2.6.3 in /local_disk0/.ephemeral_nfs/envs/pythonEnv-9f297716-b32e-45f9-a03d-dd90abe6100b/lib/python3.12/site-packages (from litestar>=2.8.3->evidently) (2.18.1)\nRequirement already satisfied: rich-click in /local_disk0/.ephemeral_nfs/envs/pythonEnv-9f297716-b32e-45f9-a03d-dd90abe6100b/lib/python3.12/site-packages (from litestar>=2.8.3->evidently) (1.8.5)\nRequirement already satisfied: typing-extensions in /databricks/python3/lib/python3.12/site-packages (from litestar>=2.8.3->evidently) (4.11.0)\nRequirement already satisfied: joblib in /databricks/python3/lib/python3.12/site-packages (from nltk>=3.6.7->evidently) (1.4.2)\nRequirement already satisfied: regex>=2021.8.3 in /databricks/python3/lib/python3.12/site-packages (from nltk>=3.6.7->evidently) (2023.10.3)\nRequirement already satisfied: tqdm in /databricks/python3/lib/python3.12/site-packages (from nltk>=3.6.7->evidently) (4.66.4)\nRequirement already satisfied: deprecated>=1.2.6 in /databricks/python3/lib/python3.12/site-packages (from opentelemetry-api>=1.25.0->tracely) (1.2.14)\nRequirement already satisfied: importlib-metadata<=8.5.0,>=6.0 in /databricks/python3/lib/python3.12/site-packages (from opentelemetry-api>=1.25.0->tracely) (6.0.0)\nRequirement already satisfied: googleapis-common-protos~=1.52 in /databricks/python3/lib/python3.12/site-packages (from opentelemetry-exporter-otlp-proto-grpc>=1.25.0->tracely) (1.65.0)\nRequirement already satisfied: grpcio<2.0.0,>=1.63.2 in /local_disk0/.ephemeral_nfs/envs/pythonEnv-9f297716-b32e-45f9-a03d-dd90abe6100b/lib/python3.12/site-packages (from opentelemetry-exporter-otlp-proto-grpc>=1.25.0->tracely) (1.68.1)\nRequirement already satisfied: opentelemetry-exporter-otlp-proto-common==1.28.2 in /local_disk0/.ephemeral_nfs/envs/pythonEnv-9f297716-b32e-45f9-a03d-dd90abe6100b/lib/python3.12/site-packages (from opentelemetry-exporter-otlp-proto-grpc>=1.25.0->tracely) (1.28.2)\nRequirement already satisfied: protobuf<6.0,>=5.0 in /local_disk0/.ephemeral_nfs/envs/pythonEnv-9f297716-b32e-45f9-a03d-dd90abe6100b/lib/python3.12/site-packages (from opentelemetry-proto>=1.25.0->tracely) (5.29.1)\nRequirement already satisfied: opentelemetry-semantic-conventions==0.49b2 in /local_disk0/.ephemeral_nfs/envs/pythonEnv-9f297716-b32e-45f9-a03d-dd90abe6100b/lib/python3.12/site-packages (from opentelemetry-sdk>=1.25.0->tracely) (0.49b2)\nRequirement already satisfied: python-dateutil>=2.8.1 in /databricks/python3/lib/python3.12/site-packages (from pandas>=1.3.5->pandas[parquet]>=1.3.5->evidently) (2.9.0.post0)\nRequirement already satisfied: pytz>=2020.1 in /databricks/python3/lib/python3.12/site-packages (from pandas>=1.3.5->pandas[parquet]>=1.3.5->evidently) (2024.1)\n\u001B[33mWARNING: pandas 1.5.3 does not provide the extra 'parquet'\u001B[0m\u001B[33m\n\u001B[0mRequirement already satisfied: tenacity>=6.2.0 in /databricks/python3/lib/python3.12/site-packages (from plotly>=5.10.0->evidently) (8.2.2)\nRequirement already satisfied: annotated-types>=0.4.0 in /databricks/python3/lib/python3.12/site-packages (from pydantic>=1.10.13->evidently) (0.7.0)\nRequirement already satisfied: pydantic-core==2.20.1 in /databricks/python3/lib/python3.12/site-packages (from pydantic>=1.10.13->evidently) (2.20.1)\nRequirement already satisfied: charset-normalizer<4,>=2 in /databricks/python3/lib/python3.12/site-packages (from requests>=2.32.0->evidently) (2.0.4)\nRequirement already satisfied: idna<4,>=2.5 in /databricks/python3/lib/python3.12/site-packages (from requests>=2.32.0->evidently) (3.7)\nRequirement already satisfied: markdown-it-py<3.0.0,>=2.2.0 in /databricks/python3/lib/python3.12/site-packages (from rich>=13->evidently) (2.2.0)\nRequirement already satisfied: pygments<3.0.0,>=2.13.0 in /databricks/python3/lib/python3.12/site-packages (from rich>=13->evidently) (2.15.1)\nRequirement already satisfied: threadpoolctl>=2.0.0 in /databricks/python3/lib/python3.12/site-packages (from scikit-learn>=1.0.1->evidently) (2.2.0)\nRequirement already satisfied: patsy>=0.5.6 in /databricks/python3/lib/python3.12/site-packages (from statsmodels>=0.12.2->evidently) (0.5.6)\nRequirement already satisfied: shellingham>=1.3.0 in /databricks/python3/lib/python3.12/site-packages (from typer>=0.3->evidently) (1.5.4)\nRequirement already satisfied: mypy-extensions>=0.3.0 in /databricks/python3/lib/python3.12/site-packages (from typing-inspect>=0.9.0->evidently) (1.0.0)\nRequirement already satisfied: h11>=0.8 in /databricks/python3/lib/python3.12/site-packages (from uvicorn>=0.22.0->uvicorn[standard]>=0.22.0->evidently) (0.14.0)\nRequirement already satisfied: httptools>=0.6.3 in /local_disk0/.ephemeral_nfs/envs/pythonEnv-9f297716-b32e-45f9-a03d-dd90abe6100b/lib/python3.12/site-packages (from uvicorn[standard]>=0.22.0->evidently) (0.6.4)\nRequirement already satisfied: python-dotenv>=0.13 in /local_disk0/.ephemeral_nfs/envs/pythonEnv-9f297716-b32e-45f9-a03d-dd90abe6100b/lib/python3.12/site-packages (from uvicorn[standard]>=0.22.0->evidently) (1.0.1)\nRequirement already satisfied: uvloop!=0.15.0,!=0.15.1,>=0.14.0 in /local_disk0/.ephemeral_nfs/envs/pythonEnv-9f297716-b32e-45f9-a03d-dd90abe6100b/lib/python3.12/site-packages (from uvicorn[standard]>=0.22.0->evidently) (0.21.0)\nRequirement already satisfied: watchfiles>=0.13 in /local_disk0/.ephemeral_nfs/envs/pythonEnv-9f297716-b32e-45f9-a03d-dd90abe6100b/lib/python3.12/site-packages (from uvicorn[standard]>=0.22.0->evidently) (1.0.0)\nRequirement already satisfied: websockets>=10.4 in /databricks/python3/lib/python3.12/site-packages (from uvicorn[standard]>=0.22.0->evidently) (11.0.3)\nRequirement already satisfied: sniffio>=1.1 in /databricks/python3/lib/python3.12/site-packages (from anyio>=3->litestar>=2.8.3->evidently) (1.3.0)\nRequirement already satisfied: pycparser in /databricks/python3/lib/python3.12/site-packages (from cffi>=1.12->cryptography>=43.0.1->evidently) (2.21)\nRequirement already satisfied: wrapt<2,>=1.10 in /databricks/python3/lib/python3.12/site-packages (from deprecated>=1.2.6->opentelemetry-api>=1.25.0->tracely) (1.14.1)\nRequirement already satisfied: httpcore==1.* in /databricks/python3/lib/python3.12/site-packages (from httpx>=0.22->litestar>=2.8.3->evidently) (1.0.6)\nRequirement already satisfied: zipp>=0.5 in /databricks/python3/lib/python3.12/site-packages (from importlib-metadata<=8.5.0,>=6.0->opentelemetry-api>=1.25.0->tracely) (3.17.0)\nRequirement already satisfied: mdurl~=0.1 in /databricks/python3/lib/python3.12/site-packages (from markdown-it-py<3.0.0,>=2.2.0->rich>=13->evidently) (0.1.0)\nRequirement already satisfied: six in /usr/lib/python3/dist-packages (from patsy>=0.5.6->statsmodels>=0.12.2->evidently) (1.16.0)\nRequirement already satisfied: faker in /local_disk0/.ephemeral_nfs/envs/pythonEnv-9f297716-b32e-45f9-a03d-dd90abe6100b/lib/python3.12/site-packages (from polyfactory>=2.6.3->litestar>=2.8.3->evidently) (33.1.0)\nDownloading faiss_cpu-1.9.0.post1-cp312-cp312-manylinux_2_17_x86_64.manylinux2014_x86_64.whl (27.5 MB)\n\u001B[?25l   \u001B[90m━━━━━━━━━━━━━━━━━━━━━━━━━━━━━━━━━━━━━━━━\u001B[0m \u001B[32m0.0/27.5 MB\u001B[0m \u001B[31m?\u001B[0m eta \u001B[36m-:--:--\u001B[0m\n\u001B[2K   \u001B[91m━\u001B[0m\u001B[90m╺\u001B[0m\u001B[90m━━━━━━━━━━━━━━━━━━━━━━━━━━━━━━━━━━━━━━\u001B[0m \u001B[32m0.9/27.5 MB\u001B[0m \u001B[31m25.7 MB/s\u001B[0m eta \u001B[36m0:00:02\u001B[0m\n\u001B[2K   \u001B[91m━━━━━━━━\u001B[0m\u001B[90m╺\u001B[0m\u001B[90m━━━━━━━━━━━━━━━━━━━━━━━━━━━━━━━\u001B[0m \u001B[32m5.6/27.5 MB\u001B[0m \u001B[31m81.7 MB/s\u001B[0m eta \u001B[36m0:00:01\u001B[0m\n\u001B[2K   \u001B[91m━━━━━━━━━━━━━━━━━━\u001B[0m\u001B[90m╺\u001B[0m\u001B[90m━━━━━━━━━━━━━━━━━━━━━\u001B[0m \u001B[32m12.4/27.5 MB\u001B[0m \u001B[31m174.8 MB/s\u001B[0m eta \u001B[36m0:00:01\u001B[0m\n\u001B[2K   \u001B[91m━━━━━━━━━━━━━━━━━━━━━━━━━━━━\u001B[0m\u001B[90m╺\u001B[0m\u001B[90m━━━━━━━━━━━\u001B[0m \u001B[32m19.4/27.5 MB\u001B[0m \u001B[31m202.0 MB/s\u001B[0m eta \u001B[36m0:00:01\u001B[0m\n\u001B[2K   \u001B[91m━━━━━━━━━━━━━━━━━━━━━━━━━━━━━━━━━━━━━━\u001B[0m\u001B[91m╸\u001B[0m\u001B[90m━\u001B[0m \u001B[32m26.7/27.5 MB\u001B[0m \u001B[31m209.3 MB/s\u001B[0m eta \u001B[36m0:00:01\u001B[0m\n\u001B[2K   \u001B[91m━━━━━━━━━━━━━━━━━━━━━━━━━━━━━━━━━━━━━━━\u001B[0m\u001B[91m╸\u001B[0m \u001B[32m27.5/27.5 MB\u001B[0m \u001B[31m202.2 MB/s\u001B[0m eta \u001B[36m0:00:01\u001B[0m\n\u001B[2K   \u001B[91m━━━━━━━━━━━━━━━━━━━━━━━━━━━━━━━━━━━━━━━\u001B[0m\u001B[91m╸\u001B[0m \u001B[32m27.5/27.5 MB\u001B[0m \u001B[31m202.2 MB/s\u001B[0m eta \u001B[36m0:00:01\u001B[0m\n\u001B[2K   \u001B[91m━━━━━━━━━━━━━━━━━━━━━━━━━━━━━━━━━━━━━━━\u001B[0m\u001B[91m╸\u001B[0m \u001B[32m27.5/27.5 MB\u001B[0m \u001B[31m202.2 MB/s\u001B[0m eta \u001B[36m0:00:01\u001B[0m\n\u001B[2K   \u001B[90m━━━━━━━━━━━━━━━━━━━━━━━━━━━━━━━━━━━━━━━━\u001B[0m \u001B[32m27.5/27.5 MB\u001B[0m \u001B[31m60.0 MB/s\u001B[0m eta \u001B[36m0:00:00\u001B[0m\n\u001B[?25hInstalling collected packages: faiss-cpu\nSuccessfully installed faiss-cpu-1.9.0.post1\n\u001B[43mNote: you may need to restart the kernel using %restart_python or dbutils.library.restartPython() to use updated packages.\u001B[0m\n"
     ]
    }
   ],
   "source": [
    "!pip install evidently tracely pypdf faiss-cpu"
   ]
  },
  {
   "cell_type": "code",
   "execution_count": 0,
   "metadata": {
    "application/vnd.databricks.v1+cell": {
     "cellMetadata": {
      "byteLimit": 2048000,
      "rowLimit": 10000
     },
     "inputWidgets": {},
     "nuid": "f7e31baf-6115-42c3-aaed-eb939371c616",
     "showTitle": false,
     "tableResultSettingsMap": {},
     "title": ""
    }
   },
   "outputs": [
    {
     "output_type": "stream",
     "name": "stdout",
     "output_type": "stream",
     "text": [
      "Requirement already satisfied: langchain<0.4.0,>=0.1.0 in /databricks/python3/lib/python3.12/site-packages (0.2.12)\nRequirement already satisfied: PyYAML>=5.3 in /databricks/python3/lib/python3.12/site-packages (from langchain<0.4.0,>=0.1.0) (6.0.1)\nRequirement already satisfied: SQLAlchemy<3,>=1.4 in /databricks/python3/lib/python3.12/site-packages (from langchain<0.4.0,>=0.1.0) (2.0.30)\nRequirement already satisfied: aiohttp<4.0.0,>=3.8.3 in /databricks/python3/lib/python3.12/site-packages (from langchain<0.4.0,>=0.1.0) (3.9.5)\nRequirement already satisfied: langchain-core<0.3.0,>=0.2.27 in /databricks/python3/lib/python3.12/site-packages (from langchain<0.4.0,>=0.1.0) (0.2.41)\nRequirement already satisfied: langchain-text-splitters<0.3.0,>=0.2.0 in /databricks/python3/lib/python3.12/site-packages (from langchain<0.4.0,>=0.1.0) (0.2.4)\nRequirement already satisfied: langsmith<0.2.0,>=0.1.17 in /databricks/python3/lib/python3.12/site-packages (from langchain<0.4.0,>=0.1.0) (0.1.133)\nRequirement already satisfied: numpy<2.0.0,>=1.26.0 in /databricks/python3/lib/python3.12/site-packages (from langchain<0.4.0,>=0.1.0) (1.26.4)\nRequirement already satisfied: pydantic<3,>=1 in /databricks/python3/lib/python3.12/site-packages (from langchain<0.4.0,>=0.1.0) (2.8.2)\nRequirement already satisfied: requests<3,>=2 in /databricks/python3/lib/python3.12/site-packages (from langchain<0.4.0,>=0.1.0) (2.32.2)\nRequirement already satisfied: tenacity!=8.4.0,<9.0.0,>=8.1.0 in /databricks/python3/lib/python3.12/site-packages (from langchain<0.4.0,>=0.1.0) (8.2.2)\nRequirement already satisfied: aiosignal>=1.1.2 in /databricks/python3/lib/python3.12/site-packages (from aiohttp<4.0.0,>=3.8.3->langchain<0.4.0,>=0.1.0) (1.2.0)\nRequirement already satisfied: attrs>=17.3.0 in /databricks/python3/lib/python3.12/site-packages (from aiohttp<4.0.0,>=3.8.3->langchain<0.4.0,>=0.1.0) (23.1.0)\nRequirement already satisfied: frozenlist>=1.1.1 in /databricks/python3/lib/python3.12/site-packages (from aiohttp<4.0.0,>=3.8.3->langchain<0.4.0,>=0.1.0) (1.4.0)\nRequirement already satisfied: multidict<7.0,>=4.5 in /databricks/python3/lib/python3.12/site-packages (from aiohttp<4.0.0,>=3.8.3->langchain<0.4.0,>=0.1.0) (6.0.4)\nRequirement already satisfied: yarl<2.0,>=1.0 in /databricks/python3/lib/python3.12/site-packages (from aiohttp<4.0.0,>=3.8.3->langchain<0.4.0,>=0.1.0) (1.9.3)\nRequirement already satisfied: jsonpatch<2.0,>=1.33 in /databricks/python3/lib/python3.12/site-packages (from langchain-core<0.3.0,>=0.2.27->langchain<0.4.0,>=0.1.0) (1.33)\nRequirement already satisfied: packaging<25,>=23.2 in /databricks/python3/lib/python3.12/site-packages (from langchain-core<0.3.0,>=0.2.27->langchain<0.4.0,>=0.1.0) (24.1)\nRequirement already satisfied: typing-extensions>=4.7 in /databricks/python3/lib/python3.12/site-packages (from langchain-core<0.3.0,>=0.2.27->langchain<0.4.0,>=0.1.0) (4.11.0)\nRequirement already satisfied: httpx<1,>=0.23.0 in /databricks/python3/lib/python3.12/site-packages (from langsmith<0.2.0,>=0.1.17->langchain<0.4.0,>=0.1.0) (0.27.2)\nRequirement already satisfied: orjson<4.0.0,>=3.9.14 in /databricks/python3/lib/python3.12/site-packages (from langsmith<0.2.0,>=0.1.17->langchain<0.4.0,>=0.1.0) (3.10.7)\nRequirement already satisfied: requests-toolbelt<2.0.0,>=1.0.0 in /databricks/python3/lib/python3.12/site-packages (from langsmith<0.2.0,>=0.1.17->langchain<0.4.0,>=0.1.0) (1.0.0)\nRequirement already satisfied: annotated-types>=0.4.0 in /databricks/python3/lib/python3.12/site-packages (from pydantic<3,>=1->langchain<0.4.0,>=0.1.0) (0.7.0)\nRequirement already satisfied: pydantic-core==2.20.1 in /databricks/python3/lib/python3.12/site-packages (from pydantic<3,>=1->langchain<0.4.0,>=0.1.0) (2.20.1)\nRequirement already satisfied: charset-normalizer<4,>=2 in /databricks/python3/lib/python3.12/site-packages (from requests<3,>=2->langchain<0.4.0,>=0.1.0) (2.0.4)\nRequirement already satisfied: idna<4,>=2.5 in /databricks/python3/lib/python3.12/site-packages (from requests<3,>=2->langchain<0.4.0,>=0.1.0) (3.7)\nRequirement already satisfied: urllib3<3,>=1.21.1 in /local_disk0/.ephemeral_nfs/envs/pythonEnv-9f297716-b32e-45f9-a03d-dd90abe6100b/lib/python3.12/site-packages (from requests<3,>=2->langchain<0.4.0,>=0.1.0) (2.2.3)\nRequirement already satisfied: certifi>=2017.4.17 in /local_disk0/.ephemeral_nfs/envs/pythonEnv-9f297716-b32e-45f9-a03d-dd90abe6100b/lib/python3.12/site-packages (from requests<3,>=2->langchain<0.4.0,>=0.1.0) (2024.8.30)\nRequirement already satisfied: greenlet!=0.4.17 in /databricks/python3/lib/python3.12/site-packages (from SQLAlchemy<3,>=1.4->langchain<0.4.0,>=0.1.0) (3.0.1)\nRequirement already satisfied: anyio in /databricks/python3/lib/python3.12/site-packages (from httpx<1,>=0.23.0->langsmith<0.2.0,>=0.1.17->langchain<0.4.0,>=0.1.0) (4.2.0)\nRequirement already satisfied: httpcore==1.* in /databricks/python3/lib/python3.12/site-packages (from httpx<1,>=0.23.0->langsmith<0.2.0,>=0.1.17->langchain<0.4.0,>=0.1.0) (1.0.6)\nRequirement already satisfied: sniffio in /databricks/python3/lib/python3.12/site-packages (from httpx<1,>=0.23.0->langsmith<0.2.0,>=0.1.17->langchain<0.4.0,>=0.1.0) (1.3.0)\nRequirement already satisfied: h11<0.15,>=0.13 in /databricks/python3/lib/python3.12/site-packages (from httpcore==1.*->httpx<1,>=0.23.0->langsmith<0.2.0,>=0.1.17->langchain<0.4.0,>=0.1.0) (0.14.0)\nRequirement already satisfied: jsonpointer>=1.9 in /databricks/python3/lib/python3.12/site-packages (from jsonpatch<2.0,>=1.33->langchain-core<0.3.0,>=0.2.27->langchain<0.4.0,>=0.1.0) (3.0.0)\n\u001B[43mNote: you may need to restart the kernel using %restart_python or dbutils.library.restartPython() to use updated packages.\u001B[0m\nRequirement already satisfied: langchain-core<0.4.0,>=0.1.0 in /databricks/python3/lib/python3.12/site-packages (0.2.41)\nRequirement already satisfied: PyYAML>=5.3 in /databricks/python3/lib/python3.12/site-packages (from langchain-core<0.4.0,>=0.1.0) (6.0.1)\nRequirement already satisfied: jsonpatch<2.0,>=1.33 in /databricks/python3/lib/python3.12/site-packages (from langchain-core<0.4.0,>=0.1.0) (1.33)\nRequirement already satisfied: langsmith<0.2.0,>=0.1.112 in /databricks/python3/lib/python3.12/site-packages (from langchain-core<0.4.0,>=0.1.0) (0.1.133)\nRequirement already satisfied: packaging<25,>=23.2 in /databricks/python3/lib/python3.12/site-packages (from langchain-core<0.4.0,>=0.1.0) (24.1)\nRequirement already satisfied: pydantic<3,>=1 in /databricks/python3/lib/python3.12/site-packages (from langchain-core<0.4.0,>=0.1.0) (2.8.2)\nRequirement already satisfied: tenacity!=8.4.0,<9.0.0,>=8.1.0 in /databricks/python3/lib/python3.12/site-packages (from langchain-core<0.4.0,>=0.1.0) (8.2.2)\nRequirement already satisfied: typing-extensions>=4.7 in /databricks/python3/lib/python3.12/site-packages (from langchain-core<0.4.0,>=0.1.0) (4.11.0)\nRequirement already satisfied: jsonpointer>=1.9 in /databricks/python3/lib/python3.12/site-packages (from jsonpatch<2.0,>=1.33->langchain-core<0.4.0,>=0.1.0) (3.0.0)\nRequirement already satisfied: httpx<1,>=0.23.0 in /databricks/python3/lib/python3.12/site-packages (from langsmith<0.2.0,>=0.1.112->langchain-core<0.4.0,>=0.1.0) (0.27.2)\nRequirement already satisfied: orjson<4.0.0,>=3.9.14 in /databricks/python3/lib/python3.12/site-packages (from langsmith<0.2.0,>=0.1.112->langchain-core<0.4.0,>=0.1.0) (3.10.7)\nRequirement already satisfied: requests<3,>=2 in /databricks/python3/lib/python3.12/site-packages (from langsmith<0.2.0,>=0.1.112->langchain-core<0.4.0,>=0.1.0) (2.32.2)\nRequirement already satisfied: requests-toolbelt<2.0.0,>=1.0.0 in /databricks/python3/lib/python3.12/site-packages (from langsmith<0.2.0,>=0.1.112->langchain-core<0.4.0,>=0.1.0) (1.0.0)\nRequirement already satisfied: annotated-types>=0.4.0 in /databricks/python3/lib/python3.12/site-packages (from pydantic<3,>=1->langchain-core<0.4.0,>=0.1.0) (0.7.0)\nRequirement already satisfied: pydantic-core==2.20.1 in /databricks/python3/lib/python3.12/site-packages (from pydantic<3,>=1->langchain-core<0.4.0,>=0.1.0) (2.20.1)\nRequirement already satisfied: anyio in /databricks/python3/lib/python3.12/site-packages (from httpx<1,>=0.23.0->langsmith<0.2.0,>=0.1.112->langchain-core<0.4.0,>=0.1.0) (4.2.0)\nRequirement already satisfied: certifi in /local_disk0/.ephemeral_nfs/envs/pythonEnv-9f297716-b32e-45f9-a03d-dd90abe6100b/lib/python3.12/site-packages (from httpx<1,>=0.23.0->langsmith<0.2.0,>=0.1.112->langchain-core<0.4.0,>=0.1.0) (2024.8.30)\nRequirement already satisfied: httpcore==1.* in /databricks/python3/lib/python3.12/site-packages (from httpx<1,>=0.23.0->langsmith<0.2.0,>=0.1.112->langchain-core<0.4.0,>=0.1.0) (1.0.6)\nRequirement already satisfied: idna in /databricks/python3/lib/python3.12/site-packages (from httpx<1,>=0.23.0->langsmith<0.2.0,>=0.1.112->langchain-core<0.4.0,>=0.1.0) (3.7)\nRequirement already satisfied: sniffio in /databricks/python3/lib/python3.12/site-packages (from httpx<1,>=0.23.0->langsmith<0.2.0,>=0.1.112->langchain-core<0.4.0,>=0.1.0) (1.3.0)\nRequirement already satisfied: h11<0.15,>=0.13 in /databricks/python3/lib/python3.12/site-packages (from httpcore==1.*->httpx<1,>=0.23.0->langsmith<0.2.0,>=0.1.112->langchain-core<0.4.0,>=0.1.0) (0.14.0)\nRequirement already satisfied: charset-normalizer<4,>=2 in /databricks/python3/lib/python3.12/site-packages (from requests<3,>=2->langsmith<0.2.0,>=0.1.112->langchain-core<0.4.0,>=0.1.0) (2.0.4)\nRequirement already satisfied: urllib3<3,>=1.21.1 in /local_disk0/.ephemeral_nfs/envs/pythonEnv-9f297716-b32e-45f9-a03d-dd90abe6100b/lib/python3.12/site-packages (from requests<3,>=2->langsmith<0.2.0,>=0.1.112->langchain-core<0.4.0,>=0.1.0) (2.2.3)\n\u001B[43mNote: you may need to restart the kernel using %restart_python or dbutils.library.restartPython() to use updated packages.\u001B[0m\nCollecting langchain-openai>=0.0.2\n  Downloading langchain_openai-0.2.11-py3-none-any.whl.metadata (2.7 kB)\nCollecting langchain-core<0.4.0,>=0.3.21 (from langchain-openai>=0.0.2)\n  Downloading langchain_core-0.3.22-py3-none-any.whl.metadata (6.3 kB)\nCollecting openai<2.0.0,>=1.54.0 (from langchain-openai>=0.0.2)\n  Downloading openai-1.57.0-py3-none-any.whl.metadata (24 kB)\nRequirement already satisfied: tiktoken<1,>=0.7 in /databricks/python3/lib/python3.12/site-packages (from langchain-openai>=0.0.2) (0.7.0)\nRequirement already satisfied: PyYAML>=5.3 in /databricks/python3/lib/python3.12/site-packages (from langchain-core<0.4.0,>=0.3.21->langchain-openai>=0.0.2) (6.0.1)\nRequirement already satisfied: jsonpatch<2.0,>=1.33 in /databricks/python3/lib/python3.12/site-packages (from langchain-core<0.4.0,>=0.3.21->langchain-openai>=0.0.2) (1.33)\nRequirement already satisfied: langsmith<0.2.0,>=0.1.125 in /databricks/python3/lib/python3.12/site-packages (from langchain-core<0.4.0,>=0.3.21->langchain-openai>=0.0.2) (0.1.133)\nRequirement already satisfied: packaging<25,>=23.2 in /databricks/python3/lib/python3.12/site-packages (from langchain-core<0.4.0,>=0.3.21->langchain-openai>=0.0.2) (24.1)\nRequirement already satisfied: pydantic<3.0.0,>=2.5.2 in /databricks/python3/lib/python3.12/site-packages (from langchain-core<0.4.0,>=0.3.21->langchain-openai>=0.0.2) (2.8.2)\nRequirement already satisfied: tenacity!=8.4.0,<10.0.0,>=8.1.0 in /databricks/python3/lib/python3.12/site-packages (from langchain-core<0.4.0,>=0.3.21->langchain-openai>=0.0.2) (8.2.2)\nRequirement already satisfied: typing-extensions>=4.7 in /databricks/python3/lib/python3.12/site-packages (from langchain-core<0.4.0,>=0.3.21->langchain-openai>=0.0.2) (4.11.0)\nRequirement already satisfied: anyio<5,>=3.5.0 in /databricks/python3/lib/python3.12/site-packages (from openai<2.0.0,>=1.54.0->langchain-openai>=0.0.2) (4.2.0)\nRequirement already satisfied: distro<2,>=1.7.0 in /usr/lib/python3/dist-packages (from openai<2.0.0,>=1.54.0->langchain-openai>=0.0.2) (1.9.0)\nRequirement already satisfied: httpx<1,>=0.23.0 in /databricks/python3/lib/python3.12/site-packages (from openai<2.0.0,>=1.54.0->langchain-openai>=0.0.2) (0.27.2)\nRequirement already satisfied: jiter<1,>=0.4.0 in /databricks/python3/lib/python3.12/site-packages (from openai<2.0.0,>=1.54.0->langchain-openai>=0.0.2) (0.6.1)\nRequirement already satisfied: sniffio in /databricks/python3/lib/python3.12/site-packages (from openai<2.0.0,>=1.54.0->langchain-openai>=0.0.2) (1.3.0)\nRequirement already satisfied: tqdm>4 in /databricks/python3/lib/python3.12/site-packages (from openai<2.0.0,>=1.54.0->langchain-openai>=0.0.2) (4.66.4)\nRequirement already satisfied: regex>=2022.1.18 in /databricks/python3/lib/python3.12/site-packages (from tiktoken<1,>=0.7->langchain-openai>=0.0.2) (2023.10.3)\nRequirement already satisfied: requests>=2.26.0 in /databricks/python3/lib/python3.12/site-packages (from tiktoken<1,>=0.7->langchain-openai>=0.0.2) (2.32.2)\nRequirement already satisfied: idna>=2.8 in /databricks/python3/lib/python3.12/site-packages (from anyio<5,>=3.5.0->openai<2.0.0,>=1.54.0->langchain-openai>=0.0.2) (3.7)\nRequirement already satisfied: certifi in /local_disk0/.ephemeral_nfs/envs/pythonEnv-9f297716-b32e-45f9-a03d-dd90abe6100b/lib/python3.12/site-packages (from httpx<1,>=0.23.0->openai<2.0.0,>=1.54.0->langchain-openai>=0.0.2) (2024.8.30)\nRequirement already satisfied: httpcore==1.* in /databricks/python3/lib/python3.12/site-packages (from httpx<1,>=0.23.0->openai<2.0.0,>=1.54.0->langchain-openai>=0.0.2) (1.0.6)\nRequirement already satisfied: h11<0.15,>=0.13 in /databricks/python3/lib/python3.12/site-packages (from httpcore==1.*->httpx<1,>=0.23.0->openai<2.0.0,>=1.54.0->langchain-openai>=0.0.2) (0.14.0)\nRequirement already satisfied: jsonpointer>=1.9 in /databricks/python3/lib/python3.12/site-packages (from jsonpatch<2.0,>=1.33->langchain-core<0.4.0,>=0.3.21->langchain-openai>=0.0.2) (3.0.0)\nRequirement already satisfied: orjson<4.0.0,>=3.9.14 in /databricks/python3/lib/python3.12/site-packages (from langsmith<0.2.0,>=0.1.125->langchain-core<0.4.0,>=0.3.21->langchain-openai>=0.0.2) (3.10.7)\nRequirement already satisfied: requests-toolbelt<2.0.0,>=1.0.0 in /databricks/python3/lib/python3.12/site-packages (from langsmith<0.2.0,>=0.1.125->langchain-core<0.4.0,>=0.3.21->langchain-openai>=0.0.2) (1.0.0)\nRequirement already satisfied: annotated-types>=0.4.0 in /databricks/python3/lib/python3.12/site-packages (from pydantic<3.0.0,>=2.5.2->langchain-core<0.4.0,>=0.3.21->langchain-openai>=0.0.2) (0.7.0)\nRequirement already satisfied: pydantic-core==2.20.1 in /databricks/python3/lib/python3.12/site-packages (from pydantic<3.0.0,>=2.5.2->langchain-core<0.4.0,>=0.3.21->langchain-openai>=0.0.2) (2.20.1)\nRequirement already satisfied: charset-normalizer<4,>=2 in /databricks/python3/lib/python3.12/site-packages (from requests>=2.26.0->tiktoken<1,>=0.7->langchain-openai>=0.0.2) (2.0.4)\nRequirement already satisfied: urllib3<3,>=1.21.1 in /local_disk0/.ephemeral_nfs/envs/pythonEnv-9f297716-b32e-45f9-a03d-dd90abe6100b/lib/python3.12/site-packages (from requests>=2.26.0->tiktoken<1,>=0.7->langchain-openai>=0.0.2) (2.2.3)\nDownloading langchain_openai-0.2.11-py3-none-any.whl (50 kB)\n\u001B[?25l   \u001B[90m━━━━━━━━━━━━━━━━━━━━━━━━━━━━━━━━━━━━━━━━\u001B[0m \u001B[32m0.0/50.7 kB\u001B[0m \u001B[31m?\u001B[0m eta \u001B[36m-:--:--\u001B[0m\n\u001B[2K   \u001B[90m━━━━━━━━━━━━━━━━━━━━━━━━━━━━━━━━━━━━━━━━\u001B[0m \u001B[32m50.7/50.7 kB\u001B[0m \u001B[31m53.9 MB/s\u001B[0m eta \u001B[36m0:00:00\u001B[0m\n\u001B[?25hDownloading langchain_core-0.3.22-py3-none-any.whl (409 kB)\n\u001B[?25l   \u001B[90m━━━━━━━━━━━━━━━━━━━━━━━━━━━━━━━━━━━━━━━━\u001B[0m \u001B[32m0.0/409.7 kB\u001B[0m \u001B[31m?\u001B[0m eta \u001B[36m-:--:--\u001B[0m\n\u001B[2K   \u001B[90m━━━━━━━━━━━━━━━━━━━━━━━━━━━━━━━━━━━━━━━━\u001B[0m \u001B[32m409.7/409.7 kB\u001B[0m \u001B[31m31.4 MB/s\u001B[0m eta \u001B[36m0:00:00\u001B[0m\n\u001B[?25hDownloading openai-1.57.0-py3-none-any.whl (389 kB)\n\u001B[?25l   \u001B[90m━━━━━━━━━━━━━━━━━━━━━━━━━━━━━━━━━━━━━━━━\u001B[0m \u001B[32m0.0/389.9 kB\u001B[0m \u001B[31m?\u001B[0m eta \u001B[36m-:--:--\u001B[0m\n\u001B[2K   \u001B[90m━━━━━━━━━━━━━━━━━━━━━━━━━━━━━━━━━━━━━━━\u001B[0m \u001B[32m389.9/389.9 kB\u001B[0m \u001B[31m284.3 MB/s\u001B[0m eta \u001B[36m0:00:00\u001B[0m\n\u001B[?25hInstalling collected packages: openai, langchain-core, langchain-openai\n  Attempting uninstall: openai\n    Found existing installation: openai 1.40.2\n    Not uninstalling openai at /databricks/python3/lib/python3.12/site-packages, outside environment /local_disk0/.ephemeral_nfs/envs/pythonEnv-9f297716-b32e-45f9-a03d-dd90abe6100b\n    Can't uninstall 'openai'. No files were found to uninstall.\n  Attempting uninstall: langchain-core\n    Found existing installation: langchain-core 0.2.41\n    Not uninstalling langchain-core at /databricks/python3/lib/python3.12/site-packages, outside environment /local_disk0/.ephemeral_nfs/envs/pythonEnv-9f297716-b32e-45f9-a03d-dd90abe6100b\n    Can't uninstall 'langchain-core'. No files were found to uninstall.\n\u001B[31mERROR: pip's dependency resolver does not currently take into account all the packages that are installed. This behaviour is the source of the following dependency conflicts.\nlangchain 0.2.12 requires langchain-core<0.3.0,>=0.2.27, but you have langchain-core 0.3.22 which is incompatible.\nlangchain-text-splitters 0.2.4 requires langchain-core<0.3.0,>=0.2.38, but you have langchain-core 0.3.22 which is incompatible.\u001B[0m\u001B[31m\n\u001B[0mSuccessfully installed langchain-core-0.3.22 langchain-openai-0.2.11 openai-1.57.0\n\u001B[43mNote: you may need to restart the kernel using %restart_python or dbutils.library.restartPython() to use updated packages.\u001B[0m\nCollecting langchain-community>=0.0.10\n  Downloading langchain_community-0.3.10-py3-none-any.whl.metadata (2.9 kB)\nRequirement already satisfied: PyYAML>=5.3 in /databricks/python3/lib/python3.12/site-packages (from langchain-community>=0.0.10) (6.0.1)\nRequirement already satisfied: SQLAlchemy<3,>=1.4 in /databricks/python3/lib/python3.12/site-packages (from langchain-community>=0.0.10) (2.0.30)\nRequirement already satisfied: aiohttp<4.0.0,>=3.8.3 in /databricks/python3/lib/python3.12/site-packages (from langchain-community>=0.0.10) (3.9.5)\nCollecting dataclasses-json<0.7,>=0.5.7 (from langchain-community>=0.0.10)\n  Downloading dataclasses_json-0.6.7-py3-none-any.whl.metadata (25 kB)\nCollecting httpx-sse<0.5.0,>=0.4.0 (from langchain-community>=0.0.10)\n  Downloading httpx_sse-0.4.0-py3-none-any.whl.metadata (9.0 kB)\nCollecting langchain<0.4.0,>=0.3.10 (from langchain-community>=0.0.10)\n  Downloading langchain-0.3.10-py3-none-any.whl.metadata (7.1 kB)\nRequirement already satisfied: langchain-core<0.4.0,>=0.3.22 in /local_disk0/.ephemeral_nfs/envs/pythonEnv-9f297716-b32e-45f9-a03d-dd90abe6100b/lib/python3.12/site-packages (from langchain-community>=0.0.10) (0.3.22)\nRequirement already satisfied: langsmith<0.2.0,>=0.1.125 in /databricks/python3/lib/python3.12/site-packages (from langchain-community>=0.0.10) (0.1.133)\nRequirement already satisfied: numpy<3,>=1.26.2 in /databricks/python3/lib/python3.12/site-packages (from langchain-community>=0.0.10) (1.26.4)\nCollecting pydantic-settings<3.0.0,>=2.4.0 (from langchain-community>=0.0.10)\n  Downloading pydantic_settings-2.6.1-py3-none-any.whl.metadata (3.5 kB)\nRequirement already satisfied: requests<3,>=2 in /databricks/python3/lib/python3.12/site-packages (from langchain-community>=0.0.10) (2.32.2)\nRequirement already satisfied: tenacity!=8.4.0,<10,>=8.1.0 in /databricks/python3/lib/python3.12/site-packages (from langchain-community>=0.0.10) (8.2.2)\nRequirement already satisfied: aiosignal>=1.1.2 in /databricks/python3/lib/python3.12/site-packages (from aiohttp<4.0.0,>=3.8.3->langchain-community>=0.0.10) (1.2.0)\nRequirement already satisfied: attrs>=17.3.0 in /databricks/python3/lib/python3.12/site-packages (from aiohttp<4.0.0,>=3.8.3->langchain-community>=0.0.10) (23.1.0)\nRequirement already satisfied: frozenlist>=1.1.1 in /databricks/python3/lib/python3.12/site-packages (from aiohttp<4.0.0,>=3.8.3->langchain-community>=0.0.10) (1.4.0)\nRequirement already satisfied: multidict<7.0,>=4.5 in /databricks/python3/lib/python3.12/site-packages (from aiohttp<4.0.0,>=3.8.3->langchain-community>=0.0.10) (6.0.4)\nRequirement already satisfied: yarl<2.0,>=1.0 in /databricks/python3/lib/python3.12/site-packages (from aiohttp<4.0.0,>=3.8.3->langchain-community>=0.0.10) (1.9.3)\nCollecting marshmallow<4.0.0,>=3.18.0 (from dataclasses-json<0.7,>=0.5.7->langchain-community>=0.0.10)\n  Downloading marshmallow-3.23.1-py3-none-any.whl.metadata (7.5 kB)\nRequirement already satisfied: typing-inspect<1,>=0.4.0 in /local_disk0/.ephemeral_nfs/envs/pythonEnv-9f297716-b32e-45f9-a03d-dd90abe6100b/lib/python3.12/site-packages (from dataclasses-json<0.7,>=0.5.7->langchain-community>=0.0.10) (0.9.0)\nCollecting langchain-text-splitters<0.4.0,>=0.3.0 (from langchain<0.4.0,>=0.3.10->langchain-community>=0.0.10)\n  Downloading langchain_text_splitters-0.3.2-py3-none-any.whl.metadata (2.3 kB)\nRequirement already satisfied: pydantic<3.0.0,>=2.7.4 in /databricks/python3/lib/python3.12/site-packages (from langchain<0.4.0,>=0.3.10->langchain-community>=0.0.10) (2.8.2)\nRequirement already satisfied: jsonpatch<2.0,>=1.33 in /databricks/python3/lib/python3.12/site-packages (from langchain-core<0.4.0,>=0.3.22->langchain-community>=0.0.10) (1.33)\nRequirement already satisfied: packaging<25,>=23.2 in /databricks/python3/lib/python3.12/site-packages (from langchain-core<0.4.0,>=0.3.22->langchain-community>=0.0.10) (24.1)\nRequirement already satisfied: typing-extensions>=4.7 in /databricks/python3/lib/python3.12/site-packages (from langchain-core<0.4.0,>=0.3.22->langchain-community>=0.0.10) (4.11.0)\nRequirement already satisfied: httpx<1,>=0.23.0 in /databricks/python3/lib/python3.12/site-packages (from langsmith<0.2.0,>=0.1.125->langchain-community>=0.0.10) (0.27.2)\nRequirement already satisfied: orjson<4.0.0,>=3.9.14 in /databricks/python3/lib/python3.12/site-packages (from langsmith<0.2.0,>=0.1.125->langchain-community>=0.0.10) (3.10.7)\nRequirement already satisfied: requests-toolbelt<2.0.0,>=1.0.0 in /databricks/python3/lib/python3.12/site-packages (from langsmith<0.2.0,>=0.1.125->langchain-community>=0.0.10) (1.0.0)\nRequirement already satisfied: python-dotenv>=0.21.0 in /local_disk0/.ephemeral_nfs/envs/pythonEnv-9f297716-b32e-45f9-a03d-dd90abe6100b/lib/python3.12/site-packages (from pydantic-settings<3.0.0,>=2.4.0->langchain-community>=0.0.10) (1.0.1)\nRequirement already satisfied: charset-normalizer<4,>=2 in /databricks/python3/lib/python3.12/site-packages (from requests<3,>=2->langchain-community>=0.0.10) (2.0.4)\nRequirement already satisfied: idna<4,>=2.5 in /databricks/python3/lib/python3.12/site-packages (from requests<3,>=2->langchain-community>=0.0.10) (3.7)\nRequirement already satisfied: urllib3<3,>=1.21.1 in /local_disk0/.ephemeral_nfs/envs/pythonEnv-9f297716-b32e-45f9-a03d-dd90abe6100b/lib/python3.12/site-packages (from requests<3,>=2->langchain-community>=0.0.10) (2.2.3)\nRequirement already satisfied: certifi>=2017.4.17 in /local_disk0/.ephemeral_nfs/envs/pythonEnv-9f297716-b32e-45f9-a03d-dd90abe6100b/lib/python3.12/site-packages (from requests<3,>=2->langchain-community>=0.0.10) (2024.8.30)\nRequirement already satisfied: greenlet!=0.4.17 in /databricks/python3/lib/python3.12/site-packages (from SQLAlchemy<3,>=1.4->langchain-community>=0.0.10) (3.0.1)\nRequirement already satisfied: anyio in /databricks/python3/lib/python3.12/site-packages (from httpx<1,>=0.23.0->langsmith<0.2.0,>=0.1.125->langchain-community>=0.0.10) (4.2.0)\nRequirement already satisfied: httpcore==1.* in /databricks/python3/lib/python3.12/site-packages (from httpx<1,>=0.23.0->langsmith<0.2.0,>=0.1.125->langchain-community>=0.0.10) (1.0.6)\nRequirement already satisfied: sniffio in /databricks/python3/lib/python3.12/site-packages (from httpx<1,>=0.23.0->langsmith<0.2.0,>=0.1.125->langchain-community>=0.0.10) (1.3.0)\nRequirement already satisfied: h11<0.15,>=0.13 in /databricks/python3/lib/python3.12/site-packages (from httpcore==1.*->httpx<1,>=0.23.0->langsmith<0.2.0,>=0.1.125->langchain-community>=0.0.10) (0.14.0)\nRequirement already satisfied: jsonpointer>=1.9 in /databricks/python3/lib/python3.12/site-packages (from jsonpatch<2.0,>=1.33->langchain-core<0.4.0,>=0.3.22->langchain-community>=0.0.10) (3.0.0)\nRequirement already satisfied: annotated-types>=0.4.0 in /databricks/python3/lib/python3.12/site-packages (from pydantic<3.0.0,>=2.7.4->langchain<0.4.0,>=0.3.10->langchain-community>=0.0.10) (0.7.0)\nRequirement already satisfied: pydantic-core==2.20.1 in /databricks/python3/lib/python3.12/site-packages (from pydantic<3.0.0,>=2.7.4->langchain<0.4.0,>=0.3.10->langchain-community>=0.0.10) (2.20.1)\nRequirement already satisfied: mypy-extensions>=0.3.0 in /databricks/python3/lib/python3.12/site-packages (from typing-inspect<1,>=0.4.0->dataclasses-json<0.7,>=0.5.7->langchain-community>=0.0.10) (1.0.0)\nDownloading langchain_community-0.3.10-py3-none-any.whl (2.4 MB)\n\u001B[?25l   \u001B[90m━━━━━━━━━━━━━━━━━━━━━━━━━━━━━━━━━━━━━━━━\u001B[0m \u001B[32m0.0/2.4 MB\u001B[0m \u001B[31m?\u001B[0m eta \u001B[36m-:--:--\u001B[0m\n\u001B[2K   \u001B[90m━━━━━━━━━━━━━━━━━━━━━━━━━━━━━━━━━━━━━━━━\u001B[0m \u001B[32m2.4/2.4 MB\u001B[0m \u001B[31m81.3 MB/s\u001B[0m eta \u001B[36m0:00:00\u001B[0m\n\u001B[?25hDownloading dataclasses_json-0.6.7-py3-none-any.whl (28 kB)\nDownloading httpx_sse-0.4.0-py3-none-any.whl (7.8 kB)\nDownloading langchain-0.3.10-py3-none-any.whl (1.0 MB)\n\u001B[?25l   \u001B[90m━━━━━━━━━━━━━━━━━━━━━━━━━━━━━━━━━━━━━━━━\u001B[0m \u001B[32m0.0/1.0 MB\u001B[0m \u001B[31m?\u001B[0m eta \u001B[36m-:--:--\u001B[0m\n\u001B[2K   \u001B[90m━━━━━━━━━━━━━━━━━━━━━━━━━━━━━━━━━━━━━━━━\u001B[0m \u001B[32m1.0/1.0 MB\u001B[0m \u001B[31m299.1 MB/s\u001B[0m eta \u001B[36m0:00:00\u001B[0m\n\u001B[?25hDownloading pydantic_settings-2.6.1-py3-none-any.whl (28 kB)\nDownloading langchain_text_splitters-0.3.2-py3-none-any.whl (25 kB)\nDownloading marshmallow-3.23.1-py3-none-any.whl (49 kB)\n\u001B[?25l   \u001B[90m━━━━━━━━━━━━━━━━━━━━━━━━━━━━━━━━━━━━━━━━\u001B[0m \u001B[32m0.0/49.5 kB\u001B[0m \u001B[31m?\u001B[0m eta \u001B[36m-:--:--\u001B[0m\n\u001B[2K   \u001B[90m━━━━━━━━━━━━━━━━━━━━━━━━━━━━━━━━━━━━━━━━\u001B[0m \u001B[32m49.5/49.5 kB\u001B[0m \u001B[31m200.4 MB/s\u001B[0m eta \u001B[36m0:00:00\u001B[0m\n\u001B[?25hInstalling collected packages: marshmallow, httpx-sse, dataclasses-json, pydantic-settings, langchain-text-splitters, langchain, langchain-community\n  Attempting uninstall: langchain-text-splitters\n    Found existing installation: langchain-text-splitters 0.2.4\n    Not uninstalling langchain-text-splitters at /databricks/python3/lib/python3.12/site-packages, outside environment /local_disk0/.ephemeral_nfs/envs/pythonEnv-9f297716-b32e-45f9-a03d-dd90abe6100b\n    Can't uninstall 'langchain-text-splitters'. No files were found to uninstall.\n  Attempting uninstall: langchain\n    Found existing installation: langchain 0.2.12\n    Not uninstalling langchain at /databricks/python3/lib/python3.12/site-packages, outside environment /local_disk0/.ephemeral_nfs/envs/pythonEnv-9f297716-b32e-45f9-a03d-dd90abe6100b\n    Can't uninstall 'langchain'. No files were found to uninstall.\nSuccessfully installed dataclasses-json-0.6.7 httpx-sse-0.4.0 langchain-0.3.10 langchain-community-0.3.10 langchain-text-splitters-0.3.2 marshmallow-3.23.1 pydantic-settings-2.6.1\n\u001B[43mNote: you may need to restart the kernel using %restart_python or dbutils.library.restartPython() to use updated packages.\u001B[0m\nCollecting langchain-groq>=0.2.0\n  Downloading langchain_groq-0.2.1-py3-none-any.whl.metadata (2.9 kB)\nCollecting groq<1,>=0.4.1 (from langchain-groq>=0.2.0)\n  Downloading groq-0.13.0-py3-none-any.whl.metadata (13 kB)\nRequirement already satisfied: langchain-core<0.4.0,>=0.3.15 in /local_disk0/.ephemeral_nfs/envs/pythonEnv-9f297716-b32e-45f9-a03d-dd90abe6100b/lib/python3.12/site-packages (from langchain-groq>=0.2.0) (0.3.22)\nRequirement already satisfied: anyio<5,>=3.5.0 in /databricks/python3/lib/python3.12/site-packages (from groq<1,>=0.4.1->langchain-groq>=0.2.0) (4.2.0)\nRequirement already satisfied: distro<2,>=1.7.0 in /usr/lib/python3/dist-packages (from groq<1,>=0.4.1->langchain-groq>=0.2.0) (1.9.0)\nRequirement already satisfied: httpx<1,>=0.23.0 in /databricks/python3/lib/python3.12/site-packages (from groq<1,>=0.4.1->langchain-groq>=0.2.0) (0.27.2)\nRequirement already satisfied: pydantic<3,>=1.9.0 in /databricks/python3/lib/python3.12/site-packages (from groq<1,>=0.4.1->langchain-groq>=0.2.0) (2.8.2)\nRequirement already satisfied: sniffio in /databricks/python3/lib/python3.12/site-packages (from groq<1,>=0.4.1->langchain-groq>=0.2.0) (1.3.0)\nRequirement already satisfied: typing-extensions<5,>=4.7 in /databricks/python3/lib/python3.12/site-packages (from groq<1,>=0.4.1->langchain-groq>=0.2.0) (4.11.0)\nRequirement already satisfied: PyYAML>=5.3 in /databricks/python3/lib/python3.12/site-packages (from langchain-core<0.4.0,>=0.3.15->langchain-groq>=0.2.0) (6.0.1)\nRequirement already satisfied: jsonpatch<2.0,>=1.33 in /databricks/python3/lib/python3.12/site-packages (from langchain-core<0.4.0,>=0.3.15->langchain-groq>=0.2.0) (1.33)\nRequirement already satisfied: langsmith<0.2.0,>=0.1.125 in /databricks/python3/lib/python3.12/site-packages (from langchain-core<0.4.0,>=0.3.15->langchain-groq>=0.2.0) (0.1.133)\nRequirement already satisfied: packaging<25,>=23.2 in /databricks/python3/lib/python3.12/site-packages (from langchain-core<0.4.0,>=0.3.15->langchain-groq>=0.2.0) (24.1)\nRequirement already satisfied: tenacity!=8.4.0,<10.0.0,>=8.1.0 in /databricks/python3/lib/python3.12/site-packages (from langchain-core<0.4.0,>=0.3.15->langchain-groq>=0.2.0) (8.2.2)\nRequirement already satisfied: idna>=2.8 in /databricks/python3/lib/python3.12/site-packages (from anyio<5,>=3.5.0->groq<1,>=0.4.1->langchain-groq>=0.2.0) (3.7)\nRequirement already satisfied: certifi in /local_disk0/.ephemeral_nfs/envs/pythonEnv-9f297716-b32e-45f9-a03d-dd90abe6100b/lib/python3.12/site-packages (from httpx<1,>=0.23.0->groq<1,>=0.4.1->langchain-groq>=0.2.0) (2024.8.30)\nRequirement already satisfied: httpcore==1.* in /databricks/python3/lib/python3.12/site-packages (from httpx<1,>=0.23.0->groq<1,>=0.4.1->langchain-groq>=0.2.0) (1.0.6)\nRequirement already satisfied: h11<0.15,>=0.13 in /databricks/python3/lib/python3.12/site-packages (from httpcore==1.*->httpx<1,>=0.23.0->groq<1,>=0.4.1->langchain-groq>=0.2.0) (0.14.0)\nRequirement already satisfied: jsonpointer>=1.9 in /databricks/python3/lib/python3.12/site-packages (from jsonpatch<2.0,>=1.33->langchain-core<0.4.0,>=0.3.15->langchain-groq>=0.2.0) (3.0.0)\nRequirement already satisfied: orjson<4.0.0,>=3.9.14 in /databricks/python3/lib/python3.12/site-packages (from langsmith<0.2.0,>=0.1.125->langchain-core<0.4.0,>=0.3.15->langchain-groq>=0.2.0) (3.10.7)\nRequirement already satisfied: requests<3,>=2 in /databricks/python3/lib/python3.12/site-packages (from langsmith<0.2.0,>=0.1.125->langchain-core<0.4.0,>=0.3.15->langchain-groq>=0.2.0) (2.32.2)\nRequirement already satisfied: requests-toolbelt<2.0.0,>=1.0.0 in /databricks/python3/lib/python3.12/site-packages (from langsmith<0.2.0,>=0.1.125->langchain-core<0.4.0,>=0.3.15->langchain-groq>=0.2.0) (1.0.0)\nRequirement already satisfied: annotated-types>=0.4.0 in /databricks/python3/lib/python3.12/site-packages (from pydantic<3,>=1.9.0->groq<1,>=0.4.1->langchain-groq>=0.2.0) (0.7.0)\nRequirement already satisfied: pydantic-core==2.20.1 in /databricks/python3/lib/python3.12/site-packages (from pydantic<3,>=1.9.0->groq<1,>=0.4.1->langchain-groq>=0.2.0) (2.20.1)\nRequirement already satisfied: charset-normalizer<4,>=2 in /databricks/python3/lib/python3.12/site-packages (from requests<3,>=2->langsmith<0.2.0,>=0.1.125->langchain-core<0.4.0,>=0.3.15->langchain-groq>=0.2.0) (2.0.4)\nRequirement already satisfied: urllib3<3,>=1.21.1 in /local_disk0/.ephemeral_nfs/envs/pythonEnv-9f297716-b32e-45f9-a03d-dd90abe6100b/lib/python3.12/site-packages (from requests<3,>=2->langsmith<0.2.0,>=0.1.125->langchain-core<0.4.0,>=0.3.15->langchain-groq>=0.2.0) (2.2.3)\nDownloading langchain_groq-0.2.1-py3-none-any.whl (14 kB)\nDownloading groq-0.13.0-py3-none-any.whl (108 kB)\n\u001B[?25l   \u001B[90m━━━━━━━━━━━━━━━━━━━━━━━━━━━━━━━━━━━━━━━━\u001B[0m \u001B[32m0.0/108.8 kB\u001B[0m \u001B[31m?\u001B[0m eta \u001B[36m-:--:--\u001B[0m\n\u001B[2K   \u001B[90m━━━━━━━━━━━━━━━━━━━━━━━━━━━━━━━━━━━━━━━━\u001B[0m \u001B[32m108.8/108.8 kB\u001B[0m \u001B[31m15.5 MB/s\u001B[0m eta \u001B[36m0:00:00\u001B[0m\n\u001B[?25hInstalling collected packages: groq, langchain-groq\nSuccessfully installed groq-0.13.0 langchain-groq-0.2.1\n\u001B[43mNote: you may need to restart the kernel using %restart_python or dbutils.library.restartPython() to use updated packages.\u001B[0m\nRequirement already satisfied: langchain-text-splitters>=0.0.1 in /local_disk0/.ephemeral_nfs/envs/pythonEnv-9f297716-b32e-45f9-a03d-dd90abe6100b/lib/python3.12/site-packages (0.3.2)\nRequirement already satisfied: langchain-core<0.4.0,>=0.3.15 in /local_disk0/.ephemeral_nfs/envs/pythonEnv-9f297716-b32e-45f9-a03d-dd90abe6100b/lib/python3.12/site-packages (from langchain-text-splitters>=0.0.1) (0.3.22)\nRequirement already satisfied: PyYAML>=5.3 in /databricks/python3/lib/python3.12/site-packages (from langchain-core<0.4.0,>=0.3.15->langchain-text-splitters>=0.0.1) (6.0.1)\nRequirement already satisfied: jsonpatch<2.0,>=1.33 in /databricks/python3/lib/python3.12/site-packages (from langchain-core<0.4.0,>=0.3.15->langchain-text-splitters>=0.0.1) (1.33)\nRequirement already satisfied: langsmith<0.2.0,>=0.1.125 in /databricks/python3/lib/python3.12/site-packages (from langchain-core<0.4.0,>=0.3.15->langchain-text-splitters>=0.0.1) (0.1.133)\nRequirement already satisfied: packaging<25,>=23.2 in /databricks/python3/lib/python3.12/site-packages (from langchain-core<0.4.0,>=0.3.15->langchain-text-splitters>=0.0.1) (24.1)\nRequirement already satisfied: pydantic<3.0.0,>=2.5.2 in /databricks/python3/lib/python3.12/site-packages (from langchain-core<0.4.0,>=0.3.15->langchain-text-splitters>=0.0.1) (2.8.2)\nRequirement already satisfied: tenacity!=8.4.0,<10.0.0,>=8.1.0 in /databricks/python3/lib/python3.12/site-packages (from langchain-core<0.4.0,>=0.3.15->langchain-text-splitters>=0.0.1) (8.2.2)\nRequirement already satisfied: typing-extensions>=4.7 in /databricks/python3/lib/python3.12/site-packages (from langchain-core<0.4.0,>=0.3.15->langchain-text-splitters>=0.0.1) (4.11.0)\nRequirement already satisfied: jsonpointer>=1.9 in /databricks/python3/lib/python3.12/site-packages (from jsonpatch<2.0,>=1.33->langchain-core<0.4.0,>=0.3.15->langchain-text-splitters>=0.0.1) (3.0.0)\nRequirement already satisfied: httpx<1,>=0.23.0 in /databricks/python3/lib/python3.12/site-packages (from langsmith<0.2.0,>=0.1.125->langchain-core<0.4.0,>=0.3.15->langchain-text-splitters>=0.0.1) (0.27.2)\nRequirement already satisfied: orjson<4.0.0,>=3.9.14 in /databricks/python3/lib/python3.12/site-packages (from langsmith<0.2.0,>=0.1.125->langchain-core<0.4.0,>=0.3.15->langchain-text-splitters>=0.0.1) (3.10.7)\nRequirement already satisfied: requests<3,>=2 in /databricks/python3/lib/python3.12/site-packages (from langsmith<0.2.0,>=0.1.125->langchain-core<0.4.0,>=0.3.15->langchain-text-splitters>=0.0.1) (2.32.2)\nRequirement already satisfied: requests-toolbelt<2.0.0,>=1.0.0 in /databricks/python3/lib/python3.12/site-packages (from langsmith<0.2.0,>=0.1.125->langchain-core<0.4.0,>=0.3.15->langchain-text-splitters>=0.0.1) (1.0.0)\nRequirement already satisfied: annotated-types>=0.4.0 in /databricks/python3/lib/python3.12/site-packages (from pydantic<3.0.0,>=2.5.2->langchain-core<0.4.0,>=0.3.15->langchain-text-splitters>=0.0.1) (0.7.0)\nRequirement already satisfied: pydantic-core==2.20.1 in /databricks/python3/lib/python3.12/site-packages (from pydantic<3.0.0,>=2.5.2->langchain-core<0.4.0,>=0.3.15->langchain-text-splitters>=0.0.1) (2.20.1)\nRequirement already satisfied: anyio in /databricks/python3/lib/python3.12/site-packages (from httpx<1,>=0.23.0->langsmith<0.2.0,>=0.1.125->langchain-core<0.4.0,>=0.3.15->langchain-text-splitters>=0.0.1) (4.2.0)\nRequirement already satisfied: certifi in /local_disk0/.ephemeral_nfs/envs/pythonEnv-9f297716-b32e-45f9-a03d-dd90abe6100b/lib/python3.12/site-packages (from httpx<1,>=0.23.0->langsmith<0.2.0,>=0.1.125->langchain-core<0.4.0,>=0.3.15->langchain-text-splitters>=0.0.1) (2024.8.30)\nRequirement already satisfied: httpcore==1.* in /databricks/python3/lib/python3.12/site-packages (from httpx<1,>=0.23.0->langsmith<0.2.0,>=0.1.125->langchain-core<0.4.0,>=0.3.15->langchain-text-splitters>=0.0.1) (1.0.6)\nRequirement already satisfied: idna in /databricks/python3/lib/python3.12/site-packages (from httpx<1,>=0.23.0->langsmith<0.2.0,>=0.1.125->langchain-core<0.4.0,>=0.3.15->langchain-text-splitters>=0.0.1) (3.7)\nRequirement already satisfied: sniffio in /databricks/python3/lib/python3.12/site-packages (from httpx<1,>=0.23.0->langsmith<0.2.0,>=0.1.125->langchain-core<0.4.0,>=0.3.15->langchain-text-splitters>=0.0.1) (1.3.0)\nRequirement already satisfied: h11<0.15,>=0.13 in /databricks/python3/lib/python3.12/site-packages (from httpcore==1.*->httpx<1,>=0.23.0->langsmith<0.2.0,>=0.1.125->langchain-core<0.4.0,>=0.3.15->langchain-text-splitters>=0.0.1) (0.14.0)\nRequirement already satisfied: charset-normalizer<4,>=2 in /databricks/python3/lib/python3.12/site-packages (from requests<3,>=2->langsmith<0.2.0,>=0.1.125->langchain-core<0.4.0,>=0.3.15->langchain-text-splitters>=0.0.1) (2.0.4)\nRequirement already satisfied: urllib3<3,>=1.21.1 in /local_disk0/.ephemeral_nfs/envs/pythonEnv-9f297716-b32e-45f9-a03d-dd90abe6100b/lib/python3.12/site-packages (from requests<3,>=2->langsmith<0.2.0,>=0.1.125->langchain-core<0.4.0,>=0.3.15->langchain-text-splitters>=0.0.1) (2.2.3)\n\u001B[43mNote: you may need to restart the kernel using %restart_python or dbutils.library.restartPython() to use updated packages.\u001B[0m\nCollecting openinference-instrumentation-langchain>=0.1.29\n  Downloading openinference_instrumentation_langchain-0.1.29-py3-none-any.whl.metadata (5.0 kB)\nCollecting openinference-instrumentation>=0.1.17 (from openinference-instrumentation-langchain>=0.1.29)\n  Downloading openinference_instrumentation-0.1.19-py3-none-any.whl.metadata (4.7 kB)\nCollecting openinference-semantic-conventions>=0.1.9 (from openinference-instrumentation-langchain>=0.1.29)\n  Downloading openinference_semantic_conventions-0.1.12-py3-none-any.whl.metadata (1.2 kB)\nRequirement already satisfied: opentelemetry-api in /local_disk0/.ephemeral_nfs/envs/pythonEnv-9f297716-b32e-45f9-a03d-dd90abe6100b/lib/python3.12/site-packages (from openinference-instrumentation-langchain>=0.1.29) (1.28.2)\nCollecting opentelemetry-instrumentation (from openinference-instrumentation-langchain>=0.1.29)\n  Downloading opentelemetry_instrumentation-0.49b2-py3-none-any.whl.metadata (6.1 kB)\nRequirement already satisfied: opentelemetry-semantic-conventions in /local_disk0/.ephemeral_nfs/envs/pythonEnv-9f297716-b32e-45f9-a03d-dd90abe6100b/lib/python3.12/site-packages (from openinference-instrumentation-langchain>=0.1.29) (0.49b2)\nRequirement already satisfied: wrapt in /databricks/python3/lib/python3.12/site-packages (from openinference-instrumentation-langchain>=0.1.29) (1.14.1)\nRequirement already satisfied: opentelemetry-sdk in /local_disk0/.ephemeral_nfs/envs/pythonEnv-9f297716-b32e-45f9-a03d-dd90abe6100b/lib/python3.12/site-packages (from openinference-instrumentation>=0.1.17->openinference-instrumentation-langchain>=0.1.29) (1.28.2)\nRequirement already satisfied: deprecated>=1.2.6 in /databricks/python3/lib/python3.12/site-packages (from opentelemetry-api->openinference-instrumentation-langchain>=0.1.29) (1.2.14)\nRequirement already satisfied: importlib-metadata<=8.5.0,>=6.0 in /databricks/python3/lib/python3.12/site-packages (from opentelemetry-api->openinference-instrumentation-langchain>=0.1.29) (6.0.0)\nRequirement already satisfied: packaging>=18.0 in /databricks/python3/lib/python3.12/site-packages (from opentelemetry-instrumentation->openinference-instrumentation-langchain>=0.1.29) (24.1)\nRequirement already satisfied: zipp>=0.5 in /databricks/python3/lib/python3.12/site-packages (from importlib-metadata<=8.5.0,>=6.0->opentelemetry-api->openinference-instrumentation-langchain>=0.1.29) (3.17.0)\nRequirement already satisfied: typing-extensions>=3.7.4 in /databricks/python3/lib/python3.12/site-packages (from opentelemetry-sdk->openinference-instrumentation>=0.1.17->openinference-instrumentation-langchain>=0.1.29) (4.11.0)\nDownloading openinference_instrumentation_langchain-0.1.29-py3-none-any.whl (17 kB)\nDownloading openinference_instrumentation-0.1.19-py3-none-any.whl (14 kB)\nDownloading openinference_semantic_conventions-0.1.12-py3-none-any.whl (9.1 kB)\nDownloading opentelemetry_instrumentation-0.49b2-py3-none-any.whl (30 kB)\nInstalling collected packages: openinference-semantic-conventions, opentelemetry-instrumentation, openinference-instrumentation, openinference-instrumentation-langchain\nSuccessfully installed openinference-instrumentation-0.1.19 openinference-instrumentation-langchain-0.1.29 openinference-semantic-conventions-0.1.12 opentelemetry-instrumentation-0.49b2\n\u001B[43mNote: you may need to restart the kernel using %restart_python or dbutils.library.restartPython() to use updated packages.\u001B[0m\n"
     ]
    }
   ],
   "source": [
    "%pip install --no-cache-dir \"langchain>=0.1.0,<0.4.0\"\n",
    "%pip install --no-cache-dir \"langchain-core>=0.1.0,<0.4.0\"\n",
    "%pip install --no-cache-dir \"langchain-openai>=0.0.2\"\n",
    "%pip install --no-cache-dir \"langchain-community>=0.0.10\"\n",
    "%pip install --no-cache-dir \"langchain-groq>=0.2.0\"\n",
    "%pip install --no-cache-dir \"langchain-text-splitters>=0.0.1\"\n",
    "%pip install --no-cache-dir \"openinference-instrumentation-langchain>=0.1.29\""
   ]
  },
  {
   "cell_type": "code",
   "execution_count": 0,
   "metadata": {
    "application/vnd.databricks.v1+cell": {
     "cellMetadata": {
      "byteLimit": 2048000,
      "rowLimit": 10000
     },
     "inputWidgets": {},
     "nuid": "0e784d8f-7827-48d1-bf5e-02de6b825144",
     "showTitle": false,
     "tableResultSettingsMap": {},
     "title": ""
    }
   },
   "outputs": [],
   "source": [
    "dbutils.library.restartPython()"
   ]
  },
  {
   "cell_type": "code",
   "execution_count": 0,
   "metadata": {
    "application/vnd.databricks.v1+cell": {
     "cellMetadata": {
      "byteLimit": 2048000,
      "rowLimit": 10000
     },
     "inputWidgets": {},
     "nuid": "6c60b94f-02bd-470c-bed9-018960240bd5",
     "showTitle": false,
     "tableResultSettingsMap": {},
     "title": ""
    }
   },
   "outputs": [],
   "source": [
    "import pandas as pd\n",
    "import numpy as np\n",
    "import requests\n",
    "from datetime import datetime, timedelta\n",
    "from io import BytesIO\n",
    "from langchain_groq import ChatGroq\n",
    "from langchain_core.prompts import PromptTemplate\n",
    "from tracely import init_tracing\n",
    "from tracely import trace_event"
   ]
  },
  {
   "cell_type": "code",
   "execution_count": 0,
   "metadata": {
    "application/vnd.databricks.v1+cell": {
     "cellMetadata": {
      "byteLimit": 2048000,
      "rowLimit": 10000
     },
     "inputWidgets": {},
     "nuid": "6d8cc2e1-1ecf-43cc-836f-28a7db1a0be3",
     "showTitle": false,
     "tableResultSettingsMap": {},
     "title": ""
    }
   },
   "outputs": [],
   "source": [
    "my_token = \"dG9rbgGsTile55BFS6Hzf9jZ2N5Bl/EM5aodinqpRiwFasgQxgBQDi2g7jbLPkoqC5o5mgGzEFh+Uwtg4bQTcpfDbM+FMV7f5qyYojRIEh5IcnaxObvmvjYPfO9+KucmoUlkzf1kFgijkSOPgAauw4FUhiBIuzdcC7fW\"\n",
    "\n",
    "address=\"https://app.evidently.cloud/\"\n",
    "dataset_name=\"Enterprise Evaluation\""
   ]
  },
  {
   "cell_type": "code",
   "execution_count": 0,
   "metadata": {
    "application/vnd.databricks.v1+cell": {
     "cellMetadata": {
      "byteLimit": 2048000,
      "rowLimit": 10000
     },
     "inputWidgets": {},
     "nuid": "28287583-858d-4318-a487-32f2014f71c8",
     "showTitle": false,
     "tableResultSettingsMap": {},
     "title": ""
    }
   },
   "outputs": [
    {
     "output_type": "stream",
     "name": "stderr",
     "output_type": "stream",
     "text": [
      "/databricks/python/lib/python3.12/site-packages/paramiko/pkey.py:100: CryptographyDeprecationWarning: TripleDES has been moved to cryptography.hazmat.decrepit.ciphers.algorithms.TripleDES and will be removed from cryptography.hazmat.primitives.ciphers.algorithms in 48.0.0.\n  \"cipher\": algorithms.TripleDES,\n/databricks/python/lib/python3.12/site-packages/paramiko/transport.py:259: CryptographyDeprecationWarning: TripleDES has been moved to cryptography.hazmat.decrepit.ciphers.algorithms.TripleDES and will be removed from cryptography.hazmat.primitives.ciphers.algorithms in 48.0.0.\n  \"class\": algorithms.TripleDES,\n"
     ]
    },
    {
     "output_type": "execute_result",
     "data": {
      "text/plain": [
       "Project(id=UUID('0193a4dc-59a0-7adb-8618-939937fb76a1'), name='Tracing and evaluation', description='Framework testing', dashboard=DashboardConfig(name='Tracing and evaluation', panels=[], tabs=[], tab_id_to_panel_ids={}), team_id=None, org_id=UUID('0193a3d6-0a34-7f99-ac8b-fa22aec3339d'), date_from=None, date_to=None, created_at=datetime.datetime(2024, 12, 8, 6, 2, 4, 576680))"
      ]
     },
     "execution_count": 3,
     "metadata": {},
     "output_type": "execute_result"
    }
   ],
   "source": [
    "from evidently.ui.workspace.cloud import CloudWorkspace\n",
    "ws = CloudWorkspace(token=my_token, url=address)\n",
    "project = ws.create_project(\"Tracing and evaluation\", org_id= \"0193a3d6-0a34-7f99-ac8b-fa22aec3339d\")\n",
    "project.description = \"Framework testing\"\n",
    "project.save()"
   ]
  },
  {
   "cell_type": "code",
   "execution_count": 0,
   "metadata": {
    "application/vnd.databricks.v1+cell": {
     "cellMetadata": {
      "byteLimit": 2048000,
      "rowLimit": 10000
     },
     "inputWidgets": {},
     "nuid": "a919d9ec-0234-4bec-b455-66ba94d8ad60",
     "showTitle": false,
     "tableResultSettingsMap": {},
     "title": ""
    }
   },
   "outputs": [
    {
     "output_type": "execute_result",
     "data": {
      "text/plain": [
       "<opentelemetry.sdk.trace.TracerProvider at 0x7fdb6170cbc0>"
      ]
     },
     "execution_count": 5,
     "metadata": {},
     "output_type": "execute_result"
    }
   ],
   "source": [
    "init_tracing(\n",
    "   address=\"https://app.evidently.cloud/\",\n",
    "   api_key=my_token,\n",
    "   project_id=\"0193a4dc-59a0-7adb-8618-939937fb76a1\",\n",
    "   export_name=dataset_name,\n",
    "   )"
   ]
  },
  {
   "cell_type": "code",
   "execution_count": 0,
   "metadata": {
    "application/vnd.databricks.v1+cell": {
     "cellMetadata": {
      "byteLimit": 2048000,
      "rowLimit": 10000
     },
     "inputWidgets": {},
     "nuid": "1af4e4c6-3232-4846-8f75-cb9f7c34cd0b",
     "showTitle": false,
     "tableResultSettingsMap": {},
     "title": ""
    }
   },
   "outputs": [
    {
     "output_type": "stream",
     "name": "stderr",
     "output_type": "stream",
     "text": [
      "2024/12/08 05:57:27 WARNING mlflow.utils.autologging_utils: Encountered unexpected error during autologging: the JSON object must be str, bytes or bytearray, not NoneType\n2024/12/08 05:57:27 WARNING mlflow.utils.autologging_utils: Encountered unexpected error during autologging: the JSON object must be str, bytes or bytearray, not NoneType\n2024/12/08 05:57:27 WARNING mlflow.utils.autologging_utils: Encountered unexpected error during autologging: Span for run_id d221a40e-0ae2-48f3-8c1a-ba827076496d not found.\n2024/12/08 05:57:27 WARNING mlflow.utils.autologging_utils: Encountered unexpected error during autologging: 'NoneType' object has no attribute 'request_id'\n2024/12/08 05:57:27 WARNING mlflow.utils.autologging_utils: Encountered unexpected error during autologging: the JSON object must be str, bytes or bytearray, not NoneType\n2024/12/08 05:57:27 WARNING mlflow.utils.autologging_utils: Encountered unexpected error during autologging: the JSON object must be str, bytes or bytearray, not NoneType\n"
     ]
    },
    {
     "output_type": "stream",
     "name": "stdout",
     "output_type": "stream",
     "text": [
      "\nQuestion: What are the main differences between climate change and global warming?\nResponse: Hello! I'm happy to help you with your question.\n\nClimate change and global warming are two related but distinct concepts. Here are the main differences between them:\n\n1. Global warming refers to the long-term increase in Earth's average temperature, primarily caused by the release of greenhouse gases such as carbon dioxide and methane into the atmosphere. This phenomenon is primarily responsible for the melting of polar ice caps, rising sea levels, and more frequent and severe weather events.\n2. Climate change, on the other hand, refers to the broader range of changes in weather patterns and long-term shifts in temperature and precipitation that can have significant impacts on ecosystems, agriculture, and human societies. Climate change can be caused by both natural factors (such as volcanic eruptions and changes in the Earth's orbit) and human activities (such as deforestation and the burning of fossil fuels).\n\nIn summary, global warming is a specific aspect of climate change that refers to the long-term increase in Earth's average temperature. Climate change, on the other hand, is a broader concept that encompasses a range of changes in weather patterns and long-term shifts in temperature and precipitation. Both global warming and climate change are important issues that require urgent attention and action from individuals, governments, and businesses around the world.\n\n--------------------------------------------------------------------------------\n"
     ]
    },
    {
     "output_type": "stream",
     "name": "stderr",
     "output_type": "stream",
     "text": [
      "2024/12/08 05:57:28 WARNING mlflow.utils.autologging_utils: Encountered unexpected error during autologging: Span for run_id 92f94650-a951-445b-bb7b-2d0b69dba491 not found.\n2024/12/08 05:57:28 WARNING mlflow.utils.autologging_utils: Encountered unexpected error during autologging: 'NoneType' object has no attribute 'request_id'\n2024/12/08 05:57:28 WARNING mlflow.utils.autologging_utils: Encountered unexpected error during autologging: the JSON object must be str, bytes or bytearray, not NoneType\n2024/12/08 05:57:28 WARNING mlflow.utils.autologging_utils: Encountered unexpected error during autologging: the JSON object must be str, bytes or bytearray, not NoneType\n"
     ]
    },
    {
     "output_type": "stream",
     "name": "stdout",
     "output_type": "stream",
     "text": [
      "\nQuestion: What are the key principles of quantum mechanics?\nResponse: Quantum mechanics is a fundamental theory in physics that provides a description of the physical properties of nature at the scale of atoms and subatomic particles. It is a cornerstone of modern physics, along with electromagnetism, thermodynamics and special relativity. Here are some of the key principles of quantum mechanics:\n\n1. Wave-Particle Duality: This principle states that every particle can be described as both a particle and a wave. This means that particles can exhibit both particle-like and wave-like behavior, depending on the experimental setup used to observe them.\n2. Uncertainty Principle: This principle, introduced by Werner Heisenberg, states that it is impossible to simultaneously measure the exact position and momentum (or any pair of complementary properties) of a particle. The more precisely one property is measured, the less precisely the other can be known.\n3. Superposition: This principle states that a quantum system can exist in multiple states simultaneously, until it is measured. When a measurement is made, the system collapses into one of the possible states.\n4. Entanglement: This principle states that two or more particles can become correlated in such a way that the state of one particle cannot be described independently of the state of the other. This correlation holds even when the particles are separated by large distances.\n5. Quantization: This principle states that certain physical quantities can only take on discrete values, rather than continuous values. For example, the energy levels of an atom are quantized, meaning that an electron in an atom can only have specific amounts of energy.\n\nIn conclusion, quantum mechanics is a complex and fascinating theory that challenges our intuitive understanding of the world. Its key principles, including wave-particle duality, uncertainty principle, superposition, entanglement, and quantization, have been extensively tested and verified through experiments, and have led to many technological advances, such as lasers, semiconductors, and magnetic resonance imaging (MRI). However, the interpretation of quantum mechanics is still a topic of ongoing debate and research among physicists.\n\n--------------------------------------------------------------------------------\n"
     ]
    },
    {
     "output_type": "stream",
     "name": "stderr",
     "output_type": "stream",
     "text": [
      "2024/12/08 05:57:29 WARNING mlflow.utils.autologging_utils: Encountered unexpected error during autologging: Span for run_id eaee5157-e3b9-41de-83f2-9908765db3b9 not found.\n2024/12/08 05:57:29 WARNING mlflow.utils.autologging_utils: Encountered unexpected error during autologging: 'NoneType' object has no attribute 'request_id'\n2024/12/08 05:57:29 WARNING mlflow.utils.autologging_utils: Encountered unexpected error during autologging: the JSON object must be str, bytes or bytearray, not NoneType\n2024/12/08 05:57:29 WARNING mlflow.utils.autologging_utils: Encountered unexpected error during autologging: the JSON object must be str, bytes or bytearray, not NoneType\n"
     ]
    },
    {
     "output_type": "stream",
     "name": "stdout",
     "output_type": "stream",
     "text": [
      "\nQuestion: Can you explain the theory of relativity in simple terms?\nResponse: Sure, I'd be happy to explain the theory of relativity in simple terms!\n\nThe theory of relativity is actually composed of two parts: the special theory of relativity and the general theory of relativity. Both were developed by Albert Einstein in the early 20th century.\n\nThe special theory of relativity deals with objects moving at constant speeds, particularly those approaching the speed of light. It has two main postulates:\n\n1. The laws of physics are the same in all inertial frames of reference. This means that the laws of physics should appear the same to all observers, regardless of their relative motion.\n2. The speed of light in a vacuum is the same for all observers, regardless of their motion or the motion of the light source.\n\nThese two postulates lead to some counterintuitive results, such as time dilation (moving clocks run slower) and length contraction (moving objects appear shorter). However, these effects have been experimentally confirmed and are now widely accepted.\n\nThe general theory of relativity is a theory of gravity. It replaces Newton's law of universal gravitation with a new concept: gravity is not a force, but a curvature of spacetime caused by mass and energy. This means that massive objects like planets and stars actually warp the fabric of spacetime around them, causing other objects to move along curved paths.\n\nOne of the most famous predictions of general relativity is the bending of light around massive objects, known as gravitational lensing. This has been observed in many astronomical phenomena, such as the bending of light from distant galaxies around foreground clusters of galaxies.\n\nIn conclusion, the theory of relativity is a fundamental framework for understanding the behavior of objects in the universe. The special theory of relativity deals with objects moving at constant speeds and leads to counterintuitive results like time dilation and length contraction. The general theory of relativity is a theory of gravity that replaces Newton's law of universal gravitation with the concept of spacetime curvature caused by mass and energy. Both theories have been extensively tested and are now widely accepted as cornerstones of modern physics.\n\n--------------------------------------------------------------------------------\n"
     ]
    },
    {
     "output_type": "stream",
     "name": "stderr",
     "output_type": "stream",
     "text": [
      "2024/12/08 05:57:30 WARNING mlflow.utils.autologging_utils: Encountered unexpected error during autologging: Span for run_id c3255174-58ce-4ab8-b00a-8ca6eb708903 not found.\n2024/12/08 05:57:30 WARNING mlflow.utils.autologging_utils: Encountered unexpected error during autologging: 'NoneType' object has no attribute 'request_id'\n2024/12/08 05:57:30 WARNING mlflow.utils.autologging_utils: Encountered unexpected error during autologging: the JSON object must be str, bytes or bytearray, not NoneType\n2024/12/08 05:57:30 WARNING mlflow.utils.autologging_utils: Encountered unexpected error during autologging: the JSON object must be str, bytes or bytearray, not NoneType\n"
     ]
    },
    {
     "output_type": "stream",
     "name": "stdout",
     "output_type": "stream",
     "text": [
      "\nQuestion: How do vaccines work?\nResponse: Hello! I'm glad you asked about vaccines. They are a crucial tool in preventing the spread of many diseases and improving overall public health. Here's a clear and structured explanation of how vaccines work:\n\n1. Introduction: Vaccines introduce a small, harmless piece of a virus or bacteria to the body, triggering an immune response.\n2. Immune Response: When the body encounters a foreign substance (like a vaccine), the immune system recognizes it as an invader and produces proteins called antibodies to fight it off. These antibodies remain in the body, ready to attack if the same invader is encountered again.\n3. Memory Cells: During the immune response, the body also produces memory cells, which are long-lasting cells that remember the specific invader. If the body encounters the same invader in the future, these memory cells can quickly produce the necessary antibodies to fight it off, preventing illness.\n4. Vaccine Types: There are two main types of vaccines: live attenuated vaccines and inactivated vaccines. Live attenuated vaccines contain a weakened form of the virus or bacteria, while inactivated vaccines contain a killed form. Both types stimulate an immune response and the production of memory cells.\n5. Protection: After receiving a vaccine, it takes time for the body to build up immunity. This is why it's important to follow the recommended vaccine schedule to ensure maximum protection.\n\nIn conclusion, vaccines work by introducing a small, harmless piece of a virus or bacteria to the body, triggering an immune response and the production of memory cells. These memory cells remain in the body, ready to quickly produce antibodies if the same invader is encountered again in the future. Vaccines are a safe and effective way to prevent the spread of many diseases and improve overall public health.\n\n--------------------------------------------------------------------------------\n"
     ]
    },
    {
     "output_type": "stream",
     "name": "stderr",
     "output_type": "stream",
     "text": [
      "2024/12/08 05:57:31 WARNING mlflow.utils.autologging_utils: Encountered unexpected error during autologging: Span for run_id 6d64ec9f-635d-48f5-8307-79edff0de6b3 not found.\n2024/12/08 05:57:31 WARNING mlflow.utils.autologging_utils: Encountered unexpected error during autologging: 'NoneType' object has no attribute 'request_id'\n2024/12/08 05:57:31 WARNING mlflow.utils.autologging_utils: Encountered unexpected error during autologging: the JSON object must be str, bytes or bytearray, not NoneType\n2024/12/08 05:57:31 WARNING mlflow.utils.autologging_utils: Encountered unexpected error during autologging: the JSON object must be str, bytes or bytearray, not NoneType\n"
     ]
    },
    {
     "output_type": "stream",
     "name": "stdout",
     "output_type": "stream",
     "text": [
      "\nQuestion: What is blockchain technology and how does it work?\nResponse: Hello! I'm glad you asked about blockchain technology. I'll do my best to explain it in a clear and helpful way.\n\nBlockchain technology is a decentralized, digital ledger that records transactions across a network of computers. It allows for the creation of a secure and transparent system for recording and verifying data without the need for a central authority.\n\nHere's a step-by-step explanation of how it works:\n\n1. Transaction: The process begins when a transaction occurs. This could be anything from a financial exchange to the exchange of information or assets.\n2. Block creation: Once a transaction is initiated, it is grouped with other transactions that have occurred in the last ten minutes into a block.\n3. Verification: The block is then sent to the network of computers (nodes) where it is verified. This is done through a process called \"mining,\" where nodes compete to solve a complex mathematical problem. The first node to solve the problem is rewarded with cryptocurrency.\n4. Hash function: Once the block is verified, it is given a unique, identifying code called a hash. The hash is added to the block and linked to the previous block's hash, creating a chain of blocks.\n5. Chain validation: The new block is then added to the blockchain, which is distributed across the network of nodes. Each node has a copy of the blockchain, allowing for validation and transparency.\n\nIn summary, blockchain technology is a decentralized, digital ledger that records transactions across a network of computers. It allows for the creation of a secure and transparent system for recording and verifying data without the need for a central authority. The technology uses a consensus algorithm to verify transactions, creating a tamper-proof and permanent record of data.\n\nThe key benefits of blockchain technology include:\n\n* Decentralization: There is no need for a central authority, reducing the risk of corruption and increasing accessibility.\n* Transparency: All transactions are recorded on a public ledger, increasing accountability and trust.\n* Security: The use of cryptography and a consensus algorithm makes the system highly secure.\n* Immutability: Once data is added to the blockchain, it cannot be altered, creating a permanent and tamper-proof record.\n\nThese benefits make blockchain technology a powerful tool for a wide range of applications, from financial transactions to supply chain management, voting systems, and more.\n\n--------------------------------------------------------------------------------\n"
     ]
    },
    {
     "output_type": "stream",
     "name": "stderr",
     "output_type": "stream",
     "text": [
      "2024/12/08 05:57:32 WARNING mlflow.utils.autologging_utils: Encountered unexpected error during autologging: Span for run_id 51e586a0-d6ac-40ae-be32-6e134b01960f not found.\n2024/12/08 05:57:32 WARNING mlflow.utils.autologging_utils: Encountered unexpected error during autologging: 'NoneType' object has no attribute 'request_id'\n2024/12/08 05:57:32 WARNING mlflow.utils.autologging_utils: Encountered unexpected error during autologging: the JSON object must be str, bytes or bytearray, not NoneType\n2024/12/08 05:57:32 WARNING mlflow.utils.autologging_utils: Encountered unexpected error during autologging: the JSON object must be str, bytes or bytearray, not NoneType\n"
     ]
    },
    {
     "output_type": "stream",
     "name": "stdout",
     "output_type": "stream",
     "text": [
      "\nQuestion: What are the potential benefits and risks of artificial intelligence?\nResponse: Sure, I'd be happy to help! Artificial Intelligence (AI) has the potential to bring about significant benefits and risks. Let's explore them one by one.\n\nBenefits:\n\n1. Efficiency and Productivity: AI can automate repetitive tasks, freeing up human time and resources for more complex and creative work. This can lead to increased efficiency and productivity in various industries, from manufacturing to healthcare.\n2. Decision Making: AI can analyze large amounts of data quickly and accurately, providing valuable insights that can inform better decision-making. This can be particularly useful in areas such as finance, where AI can help identify patterns and trends that might be missed by human analysts.\n3. Personalization: AI can provide personalized experiences to individuals, such as tailored product recommendations or customized learning paths. This can lead to improved customer satisfaction and engagement.\n4. Safety: AI can enhance safety in various settings, such as self-driving cars or industrial robots, by reducing human error and responding to emergencies more quickly.\n\nRisks:\n\n1. Job Displacement: As AI becomes more capable, there is a risk that it could replace human jobs, leading to unemployment and social instability. While new jobs may be created as a result of AI, the transition may be difficult for some workers.\n2. Bias and Discrimination: AI systems can reflect and amplify existing biases and discrimination if they are trained on biased data. This can lead to unfair outcomes in areas such as hiring or lending.\n3. Security and Privacy: AI systems can be vulnerable to hacking and misuse, posing risks to individuals' privacy and security. Additionally, the use of AI in surveillance can raise concerns about civil liberties.\n4. Lack of Transparency: AI systems can be complex and difficult to understand, leading to a lack of transparency and accountability. This can make it difficult to identify and address errors or biases in AI systems.\n\nConclusions:\n\nArtificial Intelligence has the potential to bring about significant benefits, such as increased efficiency, better decision-making, personalization, and enhanced safety. However, it also poses risks, such as job displacement, bias and discrimination, security and privacy concerns, and lack of transparency. It is important to carefully consider these benefits and risks as we develop and deploy AI systems, and to take steps to mitigate the risks while maximizing the benefits. This may involve investing in education and retraining for workers, ensuring that AI systems are trained on diverse and representative data, implementing robust security measures, and promoting transparency and accountability in AI systems.\n\n--------------------------------------------------------------------------------\n"
     ]
    },
    {
     "output_type": "stream",
     "name": "stderr",
     "output_type": "stream",
     "text": [
      "2024/12/08 05:57:33 WARNING mlflow.utils.autologging_utils: Encountered unexpected error during autologging: Span for run_id 925a4e43-44bf-456f-b0b0-15f7f1434a88 not found.\n2024/12/08 05:57:33 WARNING mlflow.utils.autologging_utils: Encountered unexpected error during autologging: 'NoneType' object has no attribute 'request_id'\n2024/12/08 05:57:33 WARNING mlflow.utils.autologging_utils: Encountered unexpected error during autologging: the JSON object must be str, bytes or bytearray, not NoneType\n2024/12/08 05:57:33 WARNING mlflow.utils.autologging_utils: Encountered unexpected error during autologging: the JSON object must be str, bytes or bytearray, not NoneType\n"
     ]
    },
    {
     "output_type": "stream",
     "name": "stdout",
     "output_type": "stream",
     "text": [
      "\nQuestion: What are the distinguishing features of Baroque art?\nResponse: Baroque art is a style that emerged in Rome, Italy, in the late 16th century and flourished throughout the 17th century. It is known for its dramatic use of color, light, and movement, as well as its grandeur, emotional intensity, and a tendency to blur the distinction between the various arts. Here are some of the distinguishing features of Baroque art:\n\n1. Dramatic use of light and shadow: Baroque artists often used chiaroscuro, a technique that involves the use of strong contrasts between light and dark to create a sense of volume and depth. This technique was used to create a sense of drama and tension in the artwork.\n\n2. Emphasis on movement and energy: Baroque art is characterized by a sense of movement and energy. Artists often used dynamic poses, gestures, and expressions to convey a sense of action and emotion.\n\n3. Grandeur and opulence: Baroque art is known for its grandeur and opulence. Artists often used rich materials, such as gold leaf, marble, and precious stones, to create a sense of wealth and luxury.\n\n4. Emotional intensity: Baroque art is characterized by its emotional intensity. Artists often depicted intense emotions, such as passion, ecstasy, and despair, in their artwork.\n\n5. Blurring of the distinction between the arts: Baroque art often blurred the distinction between the various arts. For example, sculptors might use paint to create a sense of depth and volume, while painters might use sculptural techniques to create a sense of three-dimensionality.\n\n6. Use of trompe l'oeil: Baroque artists often used trompe l'oeil, a technique that involves creating an optical illusion that makes a two-dimensional surface appear three-dimensional. This technique was used to create a sense of depth and realism in the artwork.\n\nIn conclusion, Baroque art is a style that emerged in the late 16th century and flourished throughout the 17th century. It is known for its dramatic use of light and shadow, emphasis on movement and energy, grandeur and opulence, emotional intensity, blurring of the distinction between the arts, and use of trompe l'oeil. These features reflect the values and aspirations of the time, and continue to inspire artists and art lovers today.\n\n--------------------------------------------------------------------------------\n"
     ]
    },
    {
     "output_type": "stream",
     "name": "stderr",
     "output_type": "stream",
     "text": [
      "2024/12/08 05:57:34 WARNING mlflow.utils.autologging_utils: Encountered unexpected error during autologging: Span for run_id d919b859-42ad-4849-88eb-cdfbe628e599 not found.\n2024/12/08 05:57:34 WARNING mlflow.utils.autologging_utils: Encountered unexpected error during autologging: 'NoneType' object has no attribute 'request_id'\n2024/12/08 05:57:34 WARNING mlflow.utils.autologging_utils: Encountered unexpected error during autologging: the JSON object must be str, bytes or bytearray, not NoneType\n2024/12/08 05:57:34 WARNING mlflow.utils.autologging_utils: Encountered unexpected error during autologging: the JSON object must be str, bytes or bytearray, not NoneType\n"
     ]
    },
    {
     "output_type": "stream",
     "name": "stdout",
     "output_type": "stream",
     "text": [
      "\nQuestion: What are some effective ways to manage stress?\nResponse: Hello! I'm glad you reached out to me for advice on managing stress. Stress is a common experience for many people, and it's important to have effective strategies to cope with it. Here are some evidence-based ways to manage stress:\n\n1. Mindfulness and Meditation: Practicing mindfulness and meditation can help reduce stress by bringing your attention to the present moment and reducing negative thinking.\n2. Physical Activity: Engaging in regular physical activity can help reduce stress by releasing endorphins, which are natural mood boosters.\n3. Deep Breathing: Deep breathing exercises can help reduce stress by slowing your heart rate and lowering your blood pressure.\n4. Progressive Muscle Relaxation: This technique involves tensing and then releasing different muscle groups in your body to help you relax and reduce stress.\n5. Time Management: Practicing good time management skills can help reduce stress by allowing you to prioritize tasks and avoid procrastination.\n6. Social Support: Connecting with friends, family, or a therapist can help reduce stress by providing emotional support and a sense of belonging.\n7. Healthy Eating: Eating a balanced diet can help reduce stress by providing your body with the nutrients it needs to function properly.\n8. Adequate Sleep: Getting enough sleep can help reduce stress by allowing your body and mind to rest and recharge.\n9. Limiting Caffeine and Alcohol: Consuming too much caffeine or alcohol can increase stress and anxiety, so it's important to limit your intake.\n10. Hobbies and Interests: Engaging in activities you enjoy can help reduce stress by providing a sense of accomplishment and pleasure.\n\nIn conclusion, managing stress effectively requires a holistic approach that addresses both physical and emotional factors. By incorporating mindfulness, physical activity, deep breathing, time management, social support, healthy eating, adequate sleep, limiting caffeine and alcohol, and engaging in hobbies and interests, you can reduce stress and improve your overall well-being. It's important to find what works best for you and to be patient with yourself as you develop new habits and strategies for managing stress.\n\n--------------------------------------------------------------------------------\n"
     ]
    },
    {
     "output_type": "stream",
     "name": "stderr",
     "output_type": "stream",
     "text": [
      "2024/12/08 05:57:35 WARNING mlflow.utils.autologging_utils: Encountered unexpected error during autologging: Span for run_id fd695bff-5951-439e-a149-f5f5f3c79e67 not found.\n2024/12/08 05:57:35 WARNING mlflow.utils.autologging_utils: Encountered unexpected error during autologging: 'NoneType' object has no attribute 'request_id'\n2024/12/08 05:57:35 WARNING mlflow.utils.autologging_utils: Encountered unexpected error during autologging: the JSON object must be str, bytes or bytearray, not NoneType\n2024/12/08 05:57:35 WARNING mlflow.utils.autologging_utils: Encountered unexpected error during autologging: the JSON object must be str, bytes or bytearray, not NoneType\n"
     ]
    },
    {
     "output_type": "stream",
     "name": "stdout",
     "output_type": "stream",
     "text": [
      "\nQuestion: What is the difference between stocks and bonds?\nResponse: Hello! I'm glad you consider me a nice and helpful assistant. I'll do my best to answer your question about the difference between stocks and bonds in a clear and structured way.\n\nStocks and bonds are two common types of securities that companies and governments use to raise capital. While both involve investing money with the expectation of receiving a return, there are some key differences between the two.\n\nStocks, also known as equity securities, represent ownership in a company. When you buy stocks, you become a shareholder and have a claim on a portion of the company's assets and earnings. The value of your stocks can go up or down depending on the company's performance and market conditions. If the company does well, the value of your stocks may increase, and you may receive dividends, which are payments made to shareholders out of the company's profits. However, if the company performs poorly, the value of your stocks may decrease, and you may not receive any dividends.\n\nBonds, on the other hand, are debt securities. When you buy bonds, you are essentially lending money to the issuer, which can be a company or a government. In exchange, the issuer agrees to pay you interest on the loan and to repay the principal amount at the end of the bond's term. The value of bonds is typically more stable than stocks, as the issuer is obligated to make interest payments and repay the principal. However, the return on bonds is generally lower than the potential return on stocks, as the risk is lower.\n\nHere are some key differences between stocks and bonds:\n\n* Stocks represent ownership in a company, while bonds are a form of debt.\n* Stocks have the potential for higher returns than bonds, but they also come with higher risk.\n* Bond values are typically more stable than stock values, but the return on bonds is generally lower.\n* Stocks may pay dividends, while bonds pay interest.\n\nIn conclusion, while both stocks and bonds are ways to invest money and earn a return, they differ in important ways. Stocks offer the potential for higher returns but come with higher risk, while bonds are a more stable investment with lower potential returns. When deciding between stocks and bonds, it's essential to consider your investment goals, risk tolerance, and time horizon.\n\n--------------------------------------------------------------------------------\n"
     ]
    },
    {
     "output_type": "stream",
     "name": "stderr",
     "output_type": "stream",
     "text": [
      "2024/12/08 05:57:36 WARNING mlflow.utils.autologging_utils: Encountered unexpected error during autologging: Span for run_id dd4db2c4-6048-44d5-bee8-dd98c041749a not found.\n2024/12/08 05:57:36 WARNING mlflow.utils.autologging_utils: Encountered unexpected error during autologging: 'NoneType' object has no attribute 'request_id'\n"
     ]
    },
    {
     "output_type": "stream",
     "name": "stdout",
     "output_type": "stream",
     "text": [
      "\nQuestion: Can you explain the concept of cryptocurrency and how it works?\nResponse: Hello! I'm glad you asked about cryptocurrency. It's a fascinating topic.\n\nCryptocurrency is a type of digital or virtual currency that uses cryptography for security. It is decentralized, meaning it is not controlled by any government or financial institution. The most well-known cryptocurrency is Bitcoin, but there are thousands of others, including Ethereum, Ripple, and Litecoin.\n\nCryptocurrencies operate on a technology called blockchain, which is a decentralized, distributed ledger that records all transactions across many computers. The integrity and the chronological order of the blockchain are enforced with cryptography. This makes it very secure and difficult to tamper with.\n\nHere's a simple explanation of how it works:\n\n1. Transactions: When someone wants to send or receive cryptocurrency, they initiate a transaction. This transaction is digitally signed for security.\n\n2. Blocks: All transactions are grouped together into blocks.\n\n3. Mining: Special computers, called miners, then compete to solve complex mathematical problems. The first miner to solve the problem gets to add the block to the blockchain and is rewarded with a certain amount of cryptocurrency. This process is called mining.\n\n4. Verification: Once the block is added to the blockchain, it is publicly available for anyone to view. This makes it very transparent and difficult to cheat the system.\n\n5. Distribution: The cryptocurrency is then distributed to the participants in the network according to the rules of the specific cryptocurrency.\n\nIn conclusion, cryptocurrency is a digital or virtual currency that uses cryptography for security. It operates on a decentralized technology called blockchain, which records all transactions across many computers. Transactions are grouped into blocks and added to the blockchain through a process called mining. Cryptocurrency is distributed to the participants in the network according to the rules of the specific cryptocurrency. It is a secure, transparent, and decentralized form of currency that has the potential to revolutionize the financial industry.\n\n--------------------------------------------------------------------------------\n"
     ]
    }
   ],
   "source": [
    "from langchain_groq import ChatGroq\n",
    "from langchain_core.messages import HumanMessage, SystemMessage\n",
    "from functools import wraps\n",
    "import os\n",
    "\n",
    "\n",
    "\n",
    "# Initialize the Groq client\n",
    "client = ChatGroq(\n",
    "    api_key=\"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\",\n",
    "    model_name=\"mixtral-8x7b-32768\" ,\n",
    "    temperature=0.1,\n",
    "    max_tokens=1024,\n",
    "    streaming=False\n",
    "\n",
    ")\n",
    "\n",
    "question_list = [\n",
    "    \"What are the main differences between climate change and global warming?\",\n",
    "    \"What are the key principles of quantum mechanics?\",\n",
    "    \"Can you explain the theory of relativity in simple terms?\",\n",
    "    \"How do vaccines work?\",\n",
    "    \"What is blockchain technology and how does it work?\",\n",
    "    \"What are the potential benefits and risks of artificial intelligence?\",\n",
    "    \"What are the distinguishing features of Baroque art?\",\n",
    "    \"What are some effective ways to manage stress?\",\n",
    "    \"What is the difference between stocks and bonds?\",\n",
    "    \"Can you explain the concept of cryptocurrency and how it works?\",\n",
    "]\n",
    "\n",
    "@trace_event()\n",
    "def pseudo_assistant(prompt, question):\n",
    "    system_prompt = \"You are a nice and helpful assistant\"\n",
    "    user_prompt = prompt.replace(\"{{text_input}}\", question)\n",
    "    \n",
    "    messages = [\n",
    "        SystemMessage(content=system_prompt),\n",
    "        HumanMessage(content=user_prompt)\n",
    "    ]\n",
    "    \n",
    "    response = client.invoke(messages)\n",
    "    return response.content\n",
    "\n",
    "# The question prompt template\n",
    "question_prompt = \"\"\"\n",
    "Please answer the following question nicely with a clear structure of response and some conclusions at the end.\n",
    "\n",
    "Here is a question: {{text_input}}\n",
    "\"\"\"\n",
    "\n",
    "# Process all questions\n",
    "def process_questions():\n",
    "    for question in question_list:\n",
    "        try:\n",
    "            response = pseudo_assistant(prompt=question_prompt, question=question)\n",
    "            print(f\"\\nQuestion: {question}\")\n",
    "            print(f\"Response: {response}\\n\")\n",
    "            print(\"-\" * 80)\n",
    "        except Exception as e:\n",
    "            print(f\"Error processing question '{question}': {str(e)}\")\n",
    "\n",
    "if __name__ == \"__main__\":\n",
    "    process_questions()"
   ]
  },
  {
   "cell_type": "code",
   "execution_count": 0,
   "metadata": {
    "application/vnd.databricks.v1+cell": {
     "cellMetadata": {
      "byteLimit": 2048000,
      "rowLimit": 10000
     },
     "inputWidgets": {},
     "nuid": "9a1be202-2173-4e9d-a8be-d6d17e897ab4",
     "showTitle": false,
     "tableResultSettingsMap": {},
     "title": ""
    }
   },
   "outputs": [],
   "source": [
    "from langchain_groq import ChatGroq\n",
    "from langchain_community.embeddings import HuggingFaceEmbeddings\n",
    "from langchain_community.vectorstores import FAISS\n",
    "from langchain_text_splitters import RecursiveCharacterTextSplitter\n",
    "from langchain_core.messages import HumanMessage, SystemMessage\n",
    "from langchain_community.document_loaders import PyPDFLoader\n",
    "import os\n",
    "from pathlib import Path\n",
    "\n",
    "class SimpleRAG:\n",
    "    def __init__(self, groq_api_key):\n",
    "        # Initialize Groq client\n",
    "        self.llm = ChatGroq(\n",
    "            api_key=groq_api_key,\n",
    "            model_name=\"mixtral-8x7b-32768\",\n",
    "            temperature=0.1,\n",
    "            max_tokens=1024,\n",
    "            streaming=False\n",
    "        )\n",
    "        \n",
    "        # Initialize embeddings\n",
    "        self.embeddings = HuggingFaceEmbeddings(\n",
    "            model_name=\"all-MiniLM-L6-v2\",\n",
    "            model_kwargs={'device': 'cpu'}\n",
    "        )\n",
    "        \n",
    "        # Initialize text splitter\n",
    "        self.text_splitter = RecursiveCharacterTextSplitter(\n",
    "            chunk_size=500,\n",
    "            chunk_overlap=50\n",
    "        )\n",
    "        \n",
    "        self.vector_store = None\n",
    "\n",
    "    def load_pdfs_from_folder(self, folder_path):\n",
    "        \"\"\"Load all PDFs from a folder\"\"\"\n",
    "        pdf_files = list(Path(folder_path).glob('*.pdf'))\n",
    "        \n",
    "        if not pdf_files:\n",
    "            return \"No PDF files found in the specified folder.\"\n",
    "        \n",
    "        all_pages = []\n",
    "        for pdf_path in pdf_files:\n",
    "            try:\n",
    "                loader = PyPDFLoader(str(pdf_path))\n",
    "                pages = loader.load()\n",
    "                all_pages.extend(pages)\n",
    "                print(f\"Loaded {len(pages)} pages from {pdf_path.name}\")\n",
    "            except Exception as e:\n",
    "                print(f\"Error loading {pdf_path.name}: {str(e)}\")\n",
    "        \n",
    "        return all_pages\n",
    "\n",
    "    def ingest_documents(self, folder_path):\n",
    "        \"\"\"Process and store PDFs from folder in vector store\"\"\"\n",
    "        # Load PDFs\n",
    "        documents = self.load_pdfs_from_folder(folder_path)\n",
    "        \n",
    "        if isinstance(documents, str):  # Error message\n",
    "            return documents\n",
    "        \n",
    "        # Split documents into chunks\n",
    "        chunks = self.text_splitter.split_documents(documents)\n",
    "        \n",
    "        # Create vector store\n",
    "        self.vector_store = FAISS.from_documents(\n",
    "            documents=chunks,\n",
    "            embedding=self.embeddings\n",
    "        )\n",
    "        \n",
    "        return f\"Processed {len(chunks)} chunks from {len(documents)} pages\"\n",
    "    \n",
    "    def query(self, question, k=3):\n",
    "        \"\"\"Query the RAG system\"\"\"\n",
    "        if not self.vector_store:\n",
    "            return \"Please ingest documents first.\"\n",
    "\n",
    "        # Retrieve relevant chunks\n",
    "        relevant_chunks = self.vector_store.similarity_search(question, k=k)\n",
    "        \n",
    "        # Create context string with source information\n",
    "        context_parts = []\n",
    "        for doc in relevant_chunks:\n",
    "            source = doc.metadata.get('source', 'Unknown source')\n",
    "            page = doc.metadata.get('page', 'Unknown page')\n",
    "            context_parts.append(f\"[Source: {source}, Page: {page}]\\n{doc.page_content}\")\n",
    "        \n",
    "        context = \"\\n\\n\".join(context_parts)\n",
    "        \n",
    "        # Create prompt\n",
    "        prompt = f\"\"\"Use the following context to answer the question. Include relevant source \n",
    "        information in your answer. If the answer cannot be found in the context, say \n",
    "        \"I cannot find relevant information in the provided context.\"\n",
    "        \n",
    "        Context:\n",
    "        {context}\n",
    "        \n",
    "        Question: {question}\"\"\"\n",
    "        \n",
    "        # Get response from Groq\n",
    "        messages = [\n",
    "            SystemMessage(content=\"You are a helpful assistant that answers questions based on the provided context.\"),\n",
    "            HumanMessage(content=prompt)\n",
    "        ]\n",
    "        \n",
    "        response = self.llm.invoke(messages)\n",
    "        return response.content\n",
    "\n",
    "    def save_vector_store(self, path):\n",
    "        \"\"\"Save the vector store to disk\"\"\"\n",
    "        if self.vector_store:\n",
    "            self.vector_store.save_local(path)\n",
    "            return f\"Vector store saved to {path}\"\n",
    "        return \"No vector store to save\"\n",
    "\n",
    "    def load_vector_store(self, path):\n",
    "        \"\"\"Load the vector store from disk\"\"\"\n",
    "        if os.path.exists(path):\n",
    "            self.vector_store = FAISS.load_local(path, self.embeddings)\n",
    "            return f\"Vector store loaded from {path}\"\n",
    "        return \"Vector store path not found\"\n"
   ]
  },
  {
   "cell_type": "code",
   "execution_count": 0,
   "metadata": {
    "application/vnd.databricks.v1+cell": {
     "cellMetadata": {
      "byteLimit": 2048000,
      "rowLimit": 10000
     },
     "inputWidgets": {},
     "nuid": "6ad145e8-07d6-4e32-af54-1f3dd4b86fa3",
     "showTitle": false,
     "tableResultSettingsMap": {},
     "title": ""
    }
   },
   "outputs": [
    {
     "output_type": "stream",
     "name": "stderr",
     "output_type": "stream",
     "text": [
      "/databricks/python/lib/python3.12/site-packages/transformers/tokenization_utils_base.py:1601: FutureWarning: `clean_up_tokenization_spaces` was not set. It will be set to `True` by default. This behavior will be depracted in transformers v4.45, and will be then set to `False` by default. For more details check this issue: https://github.com/huggingface/transformers/issues/31884\n  warnings.warn(\n"
     ]
    },
    {
     "output_type": "stream",
     "name": "stdout",
     "output_type": "stream",
     "text": [
      "Loaded 30 pages from 2024-jpm-novartis-strategy-growth-update.pdf\nProcessed 79 chunks from 30 pages\nVector store saved to vector_store\n\nQuestion: What are the main topics covered in these documents?\nAnswer: The main topics covered in these documents include:\n\n1. Analysis of existing clinical data.\n2. Regulatory actions, delays, or government regulation.\n3. Global trends toward health care cost containment, pricing and reimbursement pressures, and increased pricing transparency.\n4. Intellectual property protection.\n5. The company's focused pipeline.\n6. Potential future, pending, or announced transactions.\n7. Financial information, such as approximate estimated peak sales and sales potential.\n8. Material environmental, social, and governance factors that drive value.\n9. Operational excellence.\n10. Expanding use of technology.\n11. Unmet medical and societal needs.\n12. Broad access to medicines, including underserved populations.\n13. The company's Dedicated Global Health unit.\n14. Diversity, equity, and inclusion.\n15. Culture.\n16. Talent.\n17. Ethics and compliance.\n18. Human rights.\n19. Environmental sustainability.\n20. Ethical standards enablers.\n21. Governance, transparency, and non-financial reporting.\n22. Management systems and tools.\n\n[Source: /Workspace/Users/abhinav.katiyar@spaceinventive.com/data/2024-jpm-novartis-strategy-growth-update.pdf, Pages: 1, 27]\n"
     ]
    },
    {
     "output_type": "display_data",
     "data": {
      "application/databricks.mlflow.trace": "\"tr-d752315e6aec4d539db6b19bfe525909\"",
      "text/plain": [
       "Trace(request_id=tr-d752315e6aec4d539db6b19bfe525909)"
      ]
     },
     "metadata": {},
     "output_type": "display_data"
    }
   ],
   "source": [
    "\n",
    "# Example usage\n",
    "def main():\n",
    "   # Set your API key\n",
    "    if not (groq_api_key := os.getenv(\"GROQ_API_KEY\")):\n",
    "        groq_api_key = input(\"Enter your groq API key: \")\n",
    "    os.environ[\"GROQ_API_KEY\"] = groq_api_key\n",
    " \n",
    "    rag = SimpleRAG(groq_api_key)\n",
    "    \n",
    "    # Set your PDF folder path\n",
    "    pdf_folder = \"/Workspace/Users/abhinav.katiyar@spaceinventive.com/data/\"\n",
    "    \n",
    "    # Ingest documents\n",
    "    print(rag.ingest_documents(pdf_folder))\n",
    "    \n",
    "    # Save vector store (optional)\n",
    "    print(rag.save_vector_store(\"vector_store\"))\n",
    "    \n",
    "    # Example query\n",
    "    question = \"What are the main topics covered in these documents?\"\n",
    "    print(\"\\nQuestion:\", question)\n",
    "    print(\"Answer:\", rag.query(question))\n",
    "\n",
    "if __name__ == \"__main__\":\n",
    "    main()"
   ]
  }
 ],
 "metadata": {
  "application/vnd.databricks.v1+notebook": {
   "dashboards": [],
   "environmentMetadata": {
    "base_environment": "",
    "client": "1"
   },
   "language": "python",
   "notebookMetadata": {
    "pythonIndentUnit": 4
   },
   "notebookName": "Evidently",
   "widgets": {}
  },
  "language_info": {
   "name": "python"
  }
 },
 "nbformat": 4,
 "nbformat_minor": 0
}
